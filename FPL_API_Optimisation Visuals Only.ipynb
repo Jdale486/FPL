{
 "cells": [
  {
   "cell_type": "code",
   "execution_count": 166,
   "metadata": {},
   "outputs": [],
   "source": [
    "##import packages\n",
    "\n",
    "import requests\n",
    "import json\n",
    "import pandas as pd\n",
    "import numpy as np\n",
    "from decimal import Decimal\n",
    "import itertools as it\n",
    "import plotly.express as px\n",
    "import plotly.graph_objects as go\n"
   ]
  },
  {
   "cell_type": "code",
   "execution_count": 167,
   "metadata": {},
   "outputs": [
    {
     "name": "stdout",
     "output_type": "stream",
     "text": [
      "Note: you may need to restart the kernel to use updated packages.\n"
     ]
    }
   ],
   "source": [
    "pip install nbformat>=4.2.0"
   ]
  },
  {
   "cell_type": "code",
   "execution_count": 168,
   "metadata": {},
   "outputs": [
    {
     "name": "stdout",
     "output_type": "stream",
     "text": [
      "22\n",
      "21\n"
     ]
    }
   ],
   "source": [
    "##Request fixtures from FPL API\n",
    "\n",
    "url = f\"https://fantasy.premierleague.com/api/fixtures/\"\n",
    "response = requests.get(url)\n",
    "json_data = response.json()\n",
    "\n",
    "Fixtures_Dim = json_data\n",
    "\n",
    "Fixtures_Dim = pd.json_normalize(Fixtures_Dim)\n",
    "\n",
    "\n",
    "Fixtures_Dim_Future=Fixtures_Dim[Fixtures_Dim['finished']==False]\n",
    "\n",
    "### Used as variable to return only the data for completed gameweeks\n",
    "\n",
    "UpcomingWeek = Fixtures_Dim_Future['event'].min().astype(int)\n",
    "PrevWeek = UpcomingWeek-1\n",
    "\n",
    "### Variable for number of gameweeks to go back to calculate averages from\n",
    "\n",
    "NoTrailingWeeks = 5\n",
    "\n",
    "NoForecastWeeks = 4\n",
    "\n",
    "TeamID = 1769272\n",
    "\n",
    "print(UpcomingWeek)\n",
    "print(PrevWeek)\n"
   ]
  },
  {
   "cell_type": "code",
   "execution_count": 169,
   "metadata": {},
   "outputs": [],
   "source": [
    "###Request Team Data from FPL API\n",
    "\n",
    "url = f\"https://fantasy.premierleague.com/api/bootstrap-static\"\n",
    "response = requests.get(url)\n",
    "json_data = response.json()\n",
    "\n",
    "teams_dim = json_data['teams']\n",
    "\n",
    "Teams_Dim = pd.json_normalize(teams_dim)\n",
    "\n"
   ]
  },
  {
   "cell_type": "code",
   "execution_count": 170,
   "metadata": {},
   "outputs": [],
   "source": [
    "###Duplicates of Fixtures for Home and Away, so that this can be merged with elements\n",
    "\n",
    "Fixtures_Away1 = Fixtures_Dim_Future\n",
    "Fixtures_Away1.head()\n",
    "\n",
    "Fixtures_Home1 = Fixtures_Dim_Future\n",
    "Fixtures_Home1.head()\n",
    "\n",
    "FixturesConcat = pd.concat([Fixtures_Away1,Fixtures_Home1], keys=[\"Away\", \"Home\"])\n",
    "\n",
    "FixturesConcat.reset_index(inplace=True)\n",
    "\n",
    "FixturesConcat['TeamID'] = FixturesConcat.apply(\n",
    "    lambda row: row['team_a'] if row['level_0'] == 'Away' else row['team_h'], \n",
    "    axis=1\n",
    ")\n",
    "\n",
    "FixturesConcat['OppTeam2'] = FixturesConcat.apply(\n",
    "    lambda row: row['team_a'] if row['level_0'] == 'Home' else row['team_h'], \n",
    "    axis=1\n",
    ")"
   ]
  },
  {
   "cell_type": "code",
   "execution_count": 171,
   "metadata": {},
   "outputs": [
    {
     "name": "stdout",
     "output_type": "stream",
     "text": [
      "https://fantasy.premierleague.com/api/event/1/live/\n",
      "https://fantasy.premierleague.com/api/event/2/live/\n",
      "https://fantasy.premierleague.com/api/event/3/live/\n",
      "https://fantasy.premierleague.com/api/event/4/live/\n",
      "https://fantasy.premierleague.com/api/event/5/live/\n",
      "https://fantasy.premierleague.com/api/event/6/live/\n",
      "https://fantasy.premierleague.com/api/event/7/live/\n",
      "https://fantasy.premierleague.com/api/event/8/live/\n",
      "https://fantasy.premierleague.com/api/event/9/live/\n",
      "https://fantasy.premierleague.com/api/event/10/live/\n",
      "https://fantasy.premierleague.com/api/event/11/live/\n",
      "https://fantasy.premierleague.com/api/event/12/live/\n",
      "https://fantasy.premierleague.com/api/event/13/live/\n",
      "https://fantasy.premierleague.com/api/event/14/live/\n",
      "https://fantasy.premierleague.com/api/event/15/live/\n",
      "https://fantasy.premierleague.com/api/event/16/live/\n",
      "https://fantasy.premierleague.com/api/event/17/live/\n",
      "https://fantasy.premierleague.com/api/event/18/live/\n",
      "https://fantasy.premierleague.com/api/event/19/live/\n",
      "https://fantasy.premierleague.com/api/event/20/live/\n",
      "https://fantasy.premierleague.com/api/event/21/live/\n"
     ]
    },
    {
     "data": {
      "text/html": [
       "<div>\n",
       "<style scoped>\n",
       "    .dataframe tbody tr th:only-of-type {\n",
       "        vertical-align: middle;\n",
       "    }\n",
       "\n",
       "    .dataframe tbody tr th {\n",
       "        vertical-align: top;\n",
       "    }\n",
       "\n",
       "    .dataframe thead th {\n",
       "        text-align: right;\n",
       "    }\n",
       "</style>\n",
       "<table border=\"1\" class=\"dataframe\">\n",
       "  <thead>\n",
       "    <tr style=\"text-align: right;\">\n",
       "      <th></th>\n",
       "      <th>playerid</th>\n",
       "      <th>minutes_x</th>\n",
       "      <th>goals_scored</th>\n",
       "      <th>assists</th>\n",
       "      <th>clean_sheets</th>\n",
       "      <th>goals_conceded</th>\n",
       "      <th>threat</th>\n",
       "      <th>expected_goals</th>\n",
       "      <th>expected_assists</th>\n",
       "      <th>expected_goal_involvements</th>\n",
       "      <th>...</th>\n",
       "      <th>provisional_start_time</th>\n",
       "      <th>started</th>\n",
       "      <th>team_a</th>\n",
       "      <th>team_a_score</th>\n",
       "      <th>team_h</th>\n",
       "      <th>team_h_score</th>\n",
       "      <th>stats</th>\n",
       "      <th>team_h_difficulty</th>\n",
       "      <th>team_a_difficulty</th>\n",
       "      <th>pulse_id</th>\n",
       "    </tr>\n",
       "  </thead>\n",
       "  <tbody>\n",
       "    <tr>\n",
       "      <th>0</th>\n",
       "      <td>1.0</td>\n",
       "      <td>0.0</td>\n",
       "      <td>0.0</td>\n",
       "      <td>0.0</td>\n",
       "      <td>0.0</td>\n",
       "      <td>0.0</td>\n",
       "      <td>0.0</td>\n",
       "      <td>0.00</td>\n",
       "      <td>0.00</td>\n",
       "      <td>0.00</td>\n",
       "      <td>...</td>\n",
       "      <td>False</td>\n",
       "      <td>True</td>\n",
       "      <td>20.0</td>\n",
       "      <td>0.0</td>\n",
       "      <td>1.0</td>\n",
       "      <td>2.0</td>\n",
       "      <td>[{'identifier': 'goals_scored', 'a': [], 'h': ...</td>\n",
       "      <td>2.0</td>\n",
       "      <td>5.0</td>\n",
       "      <td>115828.0</td>\n",
       "    </tr>\n",
       "    <tr>\n",
       "      <th>1</th>\n",
       "      <td>2.0</td>\n",
       "      <td>5.0</td>\n",
       "      <td>0.0</td>\n",
       "      <td>0.0</td>\n",
       "      <td>0.0</td>\n",
       "      <td>0.0</td>\n",
       "      <td>0.0</td>\n",
       "      <td>0.00</td>\n",
       "      <td>0.00</td>\n",
       "      <td>0.00</td>\n",
       "      <td>...</td>\n",
       "      <td>False</td>\n",
       "      <td>True</td>\n",
       "      <td>20.0</td>\n",
       "      <td>0.0</td>\n",
       "      <td>1.0</td>\n",
       "      <td>2.0</td>\n",
       "      <td>[{'identifier': 'goals_scored', 'a': [], 'h': ...</td>\n",
       "      <td>2.0</td>\n",
       "      <td>5.0</td>\n",
       "      <td>115828.0</td>\n",
       "    </tr>\n",
       "    <tr>\n",
       "      <th>2</th>\n",
       "      <td>3.0</td>\n",
       "      <td>90.0</td>\n",
       "      <td>0.0</td>\n",
       "      <td>0.0</td>\n",
       "      <td>1.0</td>\n",
       "      <td>0.0</td>\n",
       "      <td>8.0</td>\n",
       "      <td>0.12</td>\n",
       "      <td>0.02</td>\n",
       "      <td>0.14</td>\n",
       "      <td>...</td>\n",
       "      <td>False</td>\n",
       "      <td>True</td>\n",
       "      <td>20.0</td>\n",
       "      <td>0.0</td>\n",
       "      <td>1.0</td>\n",
       "      <td>2.0</td>\n",
       "      <td>[{'identifier': 'goals_scored', 'a': [], 'h': ...</td>\n",
       "      <td>2.0</td>\n",
       "      <td>5.0</td>\n",
       "      <td>115828.0</td>\n",
       "    </tr>\n",
       "    <tr>\n",
       "      <th>3</th>\n",
       "      <td>4.0</td>\n",
       "      <td>90.0</td>\n",
       "      <td>1.0</td>\n",
       "      <td>1.0</td>\n",
       "      <td>1.0</td>\n",
       "      <td>0.0</td>\n",
       "      <td>46.0</td>\n",
       "      <td>0.45</td>\n",
       "      <td>0.04</td>\n",
       "      <td>0.49</td>\n",
       "      <td>...</td>\n",
       "      <td>False</td>\n",
       "      <td>True</td>\n",
       "      <td>20.0</td>\n",
       "      <td>0.0</td>\n",
       "      <td>1.0</td>\n",
       "      <td>2.0</td>\n",
       "      <td>[{'identifier': 'goals_scored', 'a': [], 'h': ...</td>\n",
       "      <td>2.0</td>\n",
       "      <td>5.0</td>\n",
       "      <td>115828.0</td>\n",
       "    </tr>\n",
       "    <tr>\n",
       "      <th>4</th>\n",
       "      <td>5.0</td>\n",
       "      <td>0.0</td>\n",
       "      <td>0.0</td>\n",
       "      <td>0.0</td>\n",
       "      <td>0.0</td>\n",
       "      <td>0.0</td>\n",
       "      <td>0.0</td>\n",
       "      <td>0.00</td>\n",
       "      <td>0.00</td>\n",
       "      <td>0.00</td>\n",
       "      <td>...</td>\n",
       "      <td>False</td>\n",
       "      <td>True</td>\n",
       "      <td>20.0</td>\n",
       "      <td>0.0</td>\n",
       "      <td>1.0</td>\n",
       "      <td>2.0</td>\n",
       "      <td>[{'identifier': 'goals_scored', 'a': [], 'h': ...</td>\n",
       "      <td>2.0</td>\n",
       "      <td>5.0</td>\n",
       "      <td>115828.0</td>\n",
       "    </tr>\n",
       "  </tbody>\n",
       "</table>\n",
       "<p>5 rows × 29 columns</p>\n",
       "</div>"
      ],
      "text/plain": [
       "   playerid  minutes_x  goals_scored  assists  clean_sheets  goals_conceded   \n",
       "0       1.0        0.0           0.0      0.0           0.0             0.0  \\\n",
       "1       2.0        5.0           0.0      0.0           0.0             0.0   \n",
       "2       3.0       90.0           0.0      0.0           1.0             0.0   \n",
       "3       4.0       90.0           1.0      1.0           1.0             0.0   \n",
       "4       5.0        0.0           0.0      0.0           0.0             0.0   \n",
       "\n",
       "  threat expected_goals expected_assists expected_goal_involvements  ...   \n",
       "0    0.0           0.00             0.00                       0.00  ...  \\\n",
       "1    0.0           0.00             0.00                       0.00  ...   \n",
       "2    8.0           0.12             0.02                       0.14  ...   \n",
       "3   46.0           0.45             0.04                       0.49  ...   \n",
       "4    0.0           0.00             0.00                       0.00  ...   \n",
       "\n",
       "  provisional_start_time  started  team_a  team_a_score team_h team_h_score   \n",
       "0                  False     True    20.0           0.0    1.0          2.0  \\\n",
       "1                  False     True    20.0           0.0    1.0          2.0   \n",
       "2                  False     True    20.0           0.0    1.0          2.0   \n",
       "3                  False     True    20.0           0.0    1.0          2.0   \n",
       "4                  False     True    20.0           0.0    1.0          2.0   \n",
       "\n",
       "                                               stats team_h_difficulty   \n",
       "0  [{'identifier': 'goals_scored', 'a': [], 'h': ...               2.0  \\\n",
       "1  [{'identifier': 'goals_scored', 'a': [], 'h': ...               2.0   \n",
       "2  [{'identifier': 'goals_scored', 'a': [], 'h': ...               2.0   \n",
       "3  [{'identifier': 'goals_scored', 'a': [], 'h': ...               2.0   \n",
       "4  [{'identifier': 'goals_scored', 'a': [], 'h': ...               2.0   \n",
       "\n",
       "   team_a_difficulty  pulse_id  \n",
       "0                5.0  115828.0  \n",
       "1                5.0  115828.0  \n",
       "2                5.0  115828.0  \n",
       "3                5.0  115828.0  \n",
       "4                5.0  115828.0  \n",
       "\n",
       "[5 rows x 29 columns]"
      ]
     },
     "execution_count": 171,
     "metadata": {},
     "output_type": "execute_result"
    }
   ],
   "source": [
    "### Gameweek elements data from FPL API\n",
    "\n",
    "player_data = []\n",
    "\n",
    "for gw1 in range(1,UpcomingWeek):\n",
    "    url = f\"https://fantasy.premierleague.com/api/event/{gw1}/live/\"\n",
    "    \n",
    "    response = requests.get(url)\n",
    "    json_data = response.json()\n",
    "    print(url)\n",
    "\n",
    "    for gw in json_data['elements']:\n",
    "        #i1 = gw['id']\n",
    "        playerid=gw['id']\n",
    "        minutes=gw['stats']['minutes']\n",
    "        goals_scored=gw['stats']['goals_scored']\n",
    "        assists=gw['stats']['assists']\n",
    "        clean_sheets=gw['stats']['clean_sheets']\n",
    "        goals_conceded=gw['stats']['goals_conceded']\n",
    "        own_goals=gw['stats']['own_goals']\n",
    "        penalties_saved=gw['stats']['penalties_saved']\n",
    "        penalties_missed=gw['stats']['penalties_missed']\n",
    "        yellow_cards=gw['stats']['yellow_cards']\n",
    "        red_cards=gw['stats']['red_cards']\n",
    "        saves=gw['stats']['saves']\n",
    "        bonus=gw['stats']['bonus']\n",
    "        bps=gw['stats']['bps']\n",
    "        influence=gw['stats']['influence']\n",
    "        creativity=gw['stats']['creativity']\n",
    "        threat=gw['stats']['threat']\n",
    "        ict_index=gw['stats']['ict_index']\n",
    "        starts=gw['stats']['starts']\n",
    "        expected_goals=gw['stats']['expected_goals']\n",
    "        expected_assists=gw['stats']['expected_assists']\n",
    "        expected_goal_involvements=gw['stats']['expected_goal_involvements']\n",
    "        expected_goals_conceded=gw['stats']['expected_goals_conceded']\n",
    "        total_points=gw['stats']['total_points']\n",
    "        if gw['explain']: \n",
    "            fixtureid = gw['explain'][0]['fixture'] \n",
    "        else: \n",
    "            fixtureid = None\n",
    "\n",
    "        player_data.append({\n",
    "            'playerid': playerid,\n",
    "            'minutes': minutes,\n",
    "            'goals_scored': goals_scored,\n",
    "            'assists': assists,\n",
    "            'clean_sheets': clean_sheets,\n",
    "            'goals_conceded': goals_conceded,\n",
    "            'threat': threat,\n",
    "            'expected_goals': expected_goals,\n",
    "            'expected_assists': expected_assists,\n",
    "            'expected_goal_involvements': expected_goal_involvements,\n",
    "            'expected_goals_conceded': expected_goals_conceded,\n",
    "            'fixtureid': fixtureid  \n",
    "\n",
    "\n",
    "            })\n",
    "\n",
    "    GWElementsDF = pd.DataFrame(player_data)\n",
    "GWElementsDF.head(5)\n",
    "\n",
    "GWElementsDF1 = pd.merge(GWElementsDF, Fixtures_Dim,left_on='fixtureid', right_on='id', how='outer')\n",
    "\n",
    "GWElementsDF1.to_csv('FPL_Event_By_Week.csv')\n",
    "GWElementsDF1.head()\n"
   ]
  },
  {
   "cell_type": "code",
   "execution_count": 172,
   "metadata": {},
   "outputs": [],
   "source": [
    "###Standard Element Data from FPL API\n",
    "\n",
    "url = f\"https://fantasy.premierleague.com/api/bootstrap-static\"\n",
    "response = requests.get(url)\n",
    "json_data = response.json()\n",
    "\n",
    "elements_dim = json_data['elements']\n",
    "\n",
    "Elements_Dim1 = pd.json_normalize(elements_dim)\n",
    "\n",
    "Elements_Dim1.to_csv('elementsdim.csv')\n",
    "\n",
    "Elements_Dim1 = pd.merge(GWElementsDF1, Elements_Dim1,left_on='playerid', right_on='id', how='outer',suffixes=('.gw', '.info'))\n",
    "\n",
    "Elements_Dim1['ExcludeDef'] = Elements_Dim1.apply(\n",
    "    lambda row: 'Y' if (row['element_type'] == '1' or row['element_type'] == '2') and row['minutes_x'] > 59 else 'N', \n",
    "    axis=1\n",
    ")\n",
    "\n",
    "Elements_Dim1.to_csv('elements4wk.csv')"
   ]
  },
  {
   "cell_type": "code",
   "execution_count": 173,
   "metadata": {},
   "outputs": [],
   "source": [
    "###Arbitrary team weightings calculated based on average of last season's odds\n",
    "\n",
    "TeamWeightings = {\n",
    "    \"Weighting\": [\n",
    "        1.699153895, 1.68275948, 1.639154108, 1.626396476, 1.605876872, 1.542304678,\n",
    "        1.526424188, 1.50219836, 1.499125082, 1.489893392, 1.44492154, 1.424635514,\n",
    "        1.365324148, 1.288771283, 1.266010528, 1.251813146, 1.18226904, 1.7, 1.7, 1.7\n",
    "    ],\n",
    "    \"Teams.id\": [\n",
    "        3, 7, 16, 20, 4, 9, 8, 2, 15, 19, 5, 14, 6, 12, 18, 1, 13, 10, 11, 17\n",
    "    ],\n",
    "    \"Teams.name2\": [\n",
    "        \"Bournemouth\", \"Crystal Palace\", \"Nott'm Forest\", \"Wolves\", \"Brentford\", \"Fulham\",\n",
    "        \"Everton\", \"Aston Villa\", \"Newcastle\", \"West Ham\", \"Brighton\", \"Man Utd\", \"Chelsea\",\n",
    "        \"Liverpool\", \"Spurs\", \"Arsenal\", \"Man City\", \"Ipswich\", \"Leicester\", \"Southampton\"\n",
    "    ]\n",
    "    ,\n",
    "    \"Teams.name\": [\n",
    "        \"Bour\", \"CryP\", \"For't\", \"Wolv\", \"Bfrd\", \"Ful\",\n",
    "        \"Ev\", \"Villa\", \"Newc\", \"WHam\", \"Bri\", \"ManU\", \"Chel\",\n",
    "        \"LPool\", \"Spurs\", \"Ars\", \"ManC\", \"Ips\", \"Leic\", \"Soton\"\n",
    "    ]\n",
    "        ,\n",
    "    \"Teams.name1\": [\n",
    "        \"b\", \"c\", \"F\", \"W\", \"B\", \"F\",\n",
    "        \"E\", \"V\", \"N\", \"W\", \"B\", \"M\", \"Ch\",\n",
    "        \"L\", \"S\", \"A\", \"M\", \"I\", \"L\", \"S\"\n",
    "    ]\n",
    "}\n",
    "\n",
    "TeamWeightings = pd.DataFrame(TeamWeightings)\n",
    "\n",
    "Elements_Dim1['OppTeam'] = Elements_Dim1.apply(lambda row: row['team_h'] if row['team_h'] == row['team'] else row['team_a'], axis=1)\n",
    "\n",
    "Elements_Dim2 = pd.merge(Elements_Dim1, TeamWeightings,left_on='OppTeam', right_on='Teams.id', how='outer')\n",
    "\n",
    "Elements_Dim2['XGC_Weighted'] = Elements_Dim2['Weighting'].astype(float)*Elements_Dim2['expected_goals_conceded.gw'].astype(float)\n",
    "\n",
    "Elements_Dim2['XGI_Weighted'] = Elements_Dim2['expected_goal_involvements.gw'].astype(float)/Elements_Dim2['Weighting'].astype(float)\n",
    "\n"
   ]
  },
  {
   "cell_type": "code",
   "execution_count": 174,
   "metadata": {},
   "outputs": [],
   "source": [
    "###Filtered to only include the previous 4 weeks' data before it is grouped to return total sum for each team \n",
    "\n",
    "Elements_Dim2Filtered = Elements_Dim2[Elements_Dim2['event']>PrevWeek-NoTrailingWeeks]\n",
    "\n",
    "Elements_Dim2Grouped1 = Elements_Dim2Filtered.groupby(['OppTeam','Teams.name', 'event']).agg(\n",
    "    XGI_Weighted=('XGI_Weighted', 'sum'),\n",
    "    XGC_Weighted=('XGC_Weighted', 'max'),\n",
    "    Minutes=('minutes_x', 'sum')\n",
    ").reset_index()\n",
    "\n",
    "\n",
    "\n",
    "##Average of the above taken for each team\n",
    "Elements_Dim2Grouped2 = Elements_Dim2Grouped1.groupby(['OppTeam','Teams.name']).agg(\n",
    "    XGI_Weighted=('XGI_Weighted', 'mean'),\n",
    "    XGC_Weighted=('XGC_Weighted', 'mean'),\n",
    "    Minutes=('Minutes', 'mean')\n",
    ").reset_index()\n",
    "\n",
    "\n",
    "\n",
    "Elements_Dim2Grouped2.head()\n",
    "\n",
    "Elements_Dim2Grouped2.to_csv('TeamProfiles.csv')"
   ]
  },
  {
   "cell_type": "code",
   "execution_count": 175,
   "metadata": {},
   "outputs": [
    {
     "data": {
      "text/html": [
       "<div>\n",
       "<style scoped>\n",
       "    .dataframe tbody tr th:only-of-type {\n",
       "        vertical-align: middle;\n",
       "    }\n",
       "\n",
       "    .dataframe tbody tr th {\n",
       "        vertical-align: top;\n",
       "    }\n",
       "\n",
       "    .dataframe thead th {\n",
       "        text-align: right;\n",
       "    }\n",
       "</style>\n",
       "<table border=\"1\" class=\"dataframe\">\n",
       "  <thead>\n",
       "    <tr style=\"text-align: right;\">\n",
       "      <th></th>\n",
       "      <th>playerid</th>\n",
       "      <th>web_name</th>\n",
       "      <th>element_type</th>\n",
       "      <th>now_cost</th>\n",
       "      <th>team</th>\n",
       "      <th>minutes_x</th>\n",
       "      <th>expected_goals.gw</th>\n",
       "      <th>expected_assists.gw</th>\n",
       "      <th>expected_goal_involvements.gw</th>\n",
       "      <th>expected_goals_conceded.gw</th>\n",
       "      <th>ExcludeDef</th>\n",
       "    </tr>\n",
       "  </thead>\n",
       "  <tbody>\n",
       "    <tr>\n",
       "      <th>0</th>\n",
       "      <td>1.0</td>\n",
       "      <td>Fábio Vieira</td>\n",
       "      <td>3.0</td>\n",
       "      <td>54.0</td>\n",
       "      <td>1.0</td>\n",
       "      <td>0.0</td>\n",
       "      <td>0.000</td>\n",
       "      <td>0.000</td>\n",
       "      <td>0.000</td>\n",
       "      <td>0.000</td>\n",
       "      <td>N</td>\n",
       "    </tr>\n",
       "    <tr>\n",
       "      <th>1</th>\n",
       "      <td>2.0</td>\n",
       "      <td>G.Jesus</td>\n",
       "      <td>4.0</td>\n",
       "      <td>67.0</td>\n",
       "      <td>1.0</td>\n",
       "      <td>67.2</td>\n",
       "      <td>0.406</td>\n",
       "      <td>0.076</td>\n",
       "      <td>0.482</td>\n",
       "      <td>0.676</td>\n",
       "      <td>N</td>\n",
       "    </tr>\n",
       "    <tr>\n",
       "      <th>2</th>\n",
       "      <td>3.0</td>\n",
       "      <td>Gabriel</td>\n",
       "      <td>2.0</td>\n",
       "      <td>64.0</td>\n",
       "      <td>1.0</td>\n",
       "      <td>90.0</td>\n",
       "      <td>0.138</td>\n",
       "      <td>0.078</td>\n",
       "      <td>0.216</td>\n",
       "      <td>0.868</td>\n",
       "      <td>N</td>\n",
       "    </tr>\n",
       "    <tr>\n",
       "      <th>3</th>\n",
       "      <td>4.0</td>\n",
       "      <td>Havertz</td>\n",
       "      <td>4.0</td>\n",
       "      <td>78.0</td>\n",
       "      <td>1.0</td>\n",
       "      <td>47.4</td>\n",
       "      <td>0.472</td>\n",
       "      <td>0.020</td>\n",
       "      <td>0.492</td>\n",
       "      <td>0.494</td>\n",
       "      <td>N</td>\n",
       "    </tr>\n",
       "    <tr>\n",
       "      <th>5</th>\n",
       "      <td>6.0</td>\n",
       "      <td>J.Timber</td>\n",
       "      <td>2.0</td>\n",
       "      <td>56.0</td>\n",
       "      <td>1.0</td>\n",
       "      <td>71.0</td>\n",
       "      <td>0.008</td>\n",
       "      <td>0.042</td>\n",
       "      <td>0.050</td>\n",
       "      <td>0.556</td>\n",
       "      <td>N</td>\n",
       "    </tr>\n",
       "  </tbody>\n",
       "</table>\n",
       "</div>"
      ],
      "text/plain": [
       "   playerid      web_name  element_type  now_cost  team  minutes_x   \n",
       "0       1.0  Fábio Vieira           3.0      54.0   1.0        0.0  \\\n",
       "1       2.0       G.Jesus           4.0      67.0   1.0       67.2   \n",
       "2       3.0       Gabriel           2.0      64.0   1.0       90.0   \n",
       "3       4.0       Havertz           4.0      78.0   1.0       47.4   \n",
       "5       6.0      J.Timber           2.0      56.0   1.0       71.0   \n",
       "\n",
       "   expected_goals.gw  expected_assists.gw  expected_goal_involvements.gw   \n",
       "0              0.000                0.000                          0.000  \\\n",
       "1              0.406                0.076                          0.482   \n",
       "2              0.138                0.078                          0.216   \n",
       "3              0.472                0.020                          0.492   \n",
       "5              0.008                0.042                          0.050   \n",
       "\n",
       "   expected_goals_conceded.gw ExcludeDef  \n",
       "0                       0.000          N  \n",
       "1                       0.676          N  \n",
       "2                       0.868          N  \n",
       "3                       0.494          N  \n",
       "5                       0.556          N  "
      ]
     },
     "execution_count": 175,
     "metadata": {},
     "output_type": "execute_result"
    }
   ],
   "source": [
    "##Previous 4 Gameweeks this dataframe is returning the averages for the selected players\n",
    "Elements_Dim1 = Elements_Dim1[Elements_Dim1['event']<UpcomingWeek]\n",
    "\n",
    "GWElementsDFLast4Weeks = Elements_Dim1[Elements_Dim1['event']>UpcomingWeek-NoTrailingWeeks-1]\n",
    "\n",
    "GWElementsDFLast4Weeks = GWElementsDFLast4Weeks[['minutes_x','playerid','web_name','element_type','team','now_cost','expected_goals.gw','expected_assists.gw','expected_goal_involvements.gw','expected_goals_conceded.gw']]\n",
    "\n",
    "GWElementsDFLast4Weeks['expected_goals.gw'] = GWElementsDFLast4Weeks['expected_goals.gw'].astype(float)\n",
    "GWElementsDFLast4Weeks['expected_assists.gw'] = GWElementsDFLast4Weeks['expected_assists.gw'].astype(float)\n",
    "GWElementsDFLast4Weeks['expected_goal_involvements.gw'] = GWElementsDFLast4Weeks['expected_goal_involvements.gw'].astype(float)\n",
    "GWElementsDFLast4Weeks['expected_goals_conceded.gw'] = GWElementsDFLast4Weeks['expected_goals_conceded.gw'].astype(float)\n",
    "\n",
    "GWElementsDFLast4Weeks = GWElementsDFLast4Weeks.groupby(['playerid','web_name','element_type','now_cost','team'], as_index=False)[['minutes_x','expected_goals.gw','expected_assists.gw','expected_goal_involvements.gw','expected_goals_conceded.gw']].mean(numeric_only=True)\n",
    "\n",
    "GWElementsDFLast4Weeks['ExcludeDef'] = GWElementsDFLast4Weeks.apply(\n",
    "    lambda row: 'Y' if (row['element_type'] == 1 or row['element_type'] == 2) and row['minutes_x']< 59 else 'N', \n",
    "    axis=1\n",
    ")\n",
    "\n",
    "grouped_dfLast4Weeks=GWElementsDFLast4Weeks[GWElementsDFLast4Weeks['ExcludeDef']!='Y']\n",
    "grouped_dfLast4Weeks.head()"
   ]
  },
  {
   "cell_type": "code",
   "execution_count": 176,
   "metadata": {},
   "outputs": [
    {
     "data": {
      "text/html": [
       "<div>\n",
       "<style scoped>\n",
       "    .dataframe tbody tr th:only-of-type {\n",
       "        vertical-align: middle;\n",
       "    }\n",
       "\n",
       "    .dataframe tbody tr th {\n",
       "        vertical-align: top;\n",
       "    }\n",
       "\n",
       "    .dataframe thead th {\n",
       "        text-align: right;\n",
       "    }\n",
       "</style>\n",
       "<table border=\"1\" class=\"dataframe\">\n",
       "  <thead>\n",
       "    <tr style=\"text-align: right;\">\n",
       "      <th></th>\n",
       "      <th>playerid</th>\n",
       "      <th>web_name</th>\n",
       "      <th>element_type</th>\n",
       "      <th>now_cost</th>\n",
       "      <th>team</th>\n",
       "      <th>minutes_x</th>\n",
       "      <th>expected_goals.gw</th>\n",
       "      <th>expected_assists.gw</th>\n",
       "      <th>expected_goal_involvements.gw</th>\n",
       "      <th>expected_goals_conceded.gw</th>\n",
       "      <th>ExcludeDef</th>\n",
       "      <th>OppTeam</th>\n",
       "      <th>Teams.name</th>\n",
       "      <th>XGI_Weighted</th>\n",
       "      <th>XGC_Weighted</th>\n",
       "      <th>Minutes</th>\n",
       "      <th>AttackOpp2</th>\n",
       "      <th>DefenceOpp2</th>\n",
       "    </tr>\n",
       "  </thead>\n",
       "  <tbody>\n",
       "    <tr>\n",
       "      <th>0</th>\n",
       "      <td>1.0</td>\n",
       "      <td>Fábio Vieira</td>\n",
       "      <td>3.0</td>\n",
       "      <td>54.0</td>\n",
       "      <td>1.0</td>\n",
       "      <td>0.0</td>\n",
       "      <td>0.000</td>\n",
       "      <td>0.000</td>\n",
       "      <td>0.000</td>\n",
       "      <td>0.000</td>\n",
       "      <td>N</td>\n",
       "      <td>1.0</td>\n",
       "      <td>Ars</td>\n",
       "      <td>0.946934</td>\n",
       "      <td>1.086574</td>\n",
       "      <td>379.615385</td>\n",
       "      <td>0.000000</td>\n",
       "      <td>0.000000</td>\n",
       "    </tr>\n",
       "    <tr>\n",
       "      <th>141</th>\n",
       "      <td>722.0</td>\n",
       "      <td>Adu-Adjei</td>\n",
       "      <td>4.0</td>\n",
       "      <td>45.0</td>\n",
       "      <td>3.0</td>\n",
       "      <td>0.0</td>\n",
       "      <td>0.000</td>\n",
       "      <td>0.000</td>\n",
       "      <td>0.000</td>\n",
       "      <td>0.000</td>\n",
       "      <td>N</td>\n",
       "      <td>3.0</td>\n",
       "      <td>Bour</td>\n",
       "      <td>0.546879</td>\n",
       "      <td>2.389010</td>\n",
       "      <td>379.461538</td>\n",
       "      <td>0.000000</td>\n",
       "      <td>0.000000</td>\n",
       "    </tr>\n",
       "    <tr>\n",
       "      <th>142</th>\n",
       "      <td>723.0</td>\n",
       "      <td>Sadi</td>\n",
       "      <td>3.0</td>\n",
       "      <td>45.0</td>\n",
       "      <td>3.0</td>\n",
       "      <td>0.0</td>\n",
       "      <td>0.000</td>\n",
       "      <td>0.000</td>\n",
       "      <td>0.000</td>\n",
       "      <td>0.000</td>\n",
       "      <td>N</td>\n",
       "      <td>3.0</td>\n",
       "      <td>Bour</td>\n",
       "      <td>0.546879</td>\n",
       "      <td>2.389010</td>\n",
       "      <td>379.461538</td>\n",
       "      <td>0.000000</td>\n",
       "      <td>0.000000</td>\n",
       "    </tr>\n",
       "    <tr>\n",
       "      <th>306</th>\n",
       "      <td>678.0</td>\n",
       "      <td>Bates</td>\n",
       "      <td>3.0</td>\n",
       "      <td>45.0</td>\n",
       "      <td>8.0</td>\n",
       "      <td>0.0</td>\n",
       "      <td>0.000</td>\n",
       "      <td>0.000</td>\n",
       "      <td>0.000</td>\n",
       "      <td>0.000</td>\n",
       "      <td>N</td>\n",
       "      <td>8.0</td>\n",
       "      <td>Ev</td>\n",
       "      <td>0.310717</td>\n",
       "      <td>2.283531</td>\n",
       "      <td>352.642857</td>\n",
       "      <td>0.000000</td>\n",
       "      <td>0.000000</td>\n",
       "    </tr>\n",
       "    <tr>\n",
       "      <th>304</th>\n",
       "      <td>614.0</td>\n",
       "      <td>Metcalfe</td>\n",
       "      <td>3.0</td>\n",
       "      <td>45.0</td>\n",
       "      <td>8.0</td>\n",
       "      <td>0.0</td>\n",
       "      <td>0.000</td>\n",
       "      <td>0.000</td>\n",
       "      <td>0.000</td>\n",
       "      <td>0.000</td>\n",
       "      <td>N</td>\n",
       "      <td>8.0</td>\n",
       "      <td>Ev</td>\n",
       "      <td>0.310717</td>\n",
       "      <td>2.283531</td>\n",
       "      <td>352.642857</td>\n",
       "      <td>0.000000</td>\n",
       "      <td>0.000000</td>\n",
       "    </tr>\n",
       "    <tr>\n",
       "      <th>...</th>\n",
       "      <td>...</td>\n",
       "      <td>...</td>\n",
       "      <td>...</td>\n",
       "      <td>...</td>\n",
       "      <td>...</td>\n",
       "      <td>...</td>\n",
       "      <td>...</td>\n",
       "      <td>...</td>\n",
       "      <td>...</td>\n",
       "      <td>...</td>\n",
       "      <td>...</td>\n",
       "      <td>...</td>\n",
       "      <td>...</td>\n",
       "      <td>...</td>\n",
       "      <td>...</td>\n",
       "      <td>...</td>\n",
       "      <td>...</td>\n",
       "      <td>...</td>\n",
       "    </tr>\n",
       "    <tr>\n",
       "      <th>376</th>\n",
       "      <td>364.0</td>\n",
       "      <td>Amad</td>\n",
       "      <td>3.0</td>\n",
       "      <td>56.0</td>\n",
       "      <td>14.0</td>\n",
       "      <td>87.6</td>\n",
       "      <td>0.396</td>\n",
       "      <td>0.264</td>\n",
       "      <td>0.660</td>\n",
       "      <td>1.562</td>\n",
       "      <td>N</td>\n",
       "      <td>14.0</td>\n",
       "      <td>ManU</td>\n",
       "      <td>0.681879</td>\n",
       "      <td>2.381991</td>\n",
       "      <td>349.214286</td>\n",
       "      <td>1.572114</td>\n",
       "      <td>0.450040</td>\n",
       "    </tr>\n",
       "    <tr>\n",
       "      <th>189</th>\n",
       "      <td>110.0</td>\n",
       "      <td>Wissa</td>\n",
       "      <td>4.0</td>\n",
       "      <td>62.0</td>\n",
       "      <td>4.0</td>\n",
       "      <td>86.8</td>\n",
       "      <td>0.712</td>\n",
       "      <td>0.042</td>\n",
       "      <td>0.754</td>\n",
       "      <td>1.326</td>\n",
       "      <td>N</td>\n",
       "      <td>4.0</td>\n",
       "      <td>Bfrd</td>\n",
       "      <td>0.649845</td>\n",
       "      <td>2.129393</td>\n",
       "      <td>352.857143</td>\n",
       "      <td>1.605562</td>\n",
       "      <td>0.489983</td>\n",
       "    </tr>\n",
       "    <tr>\n",
       "      <th>249</th>\n",
       "      <td>306.0</td>\n",
       "      <td>Vardy</td>\n",
       "      <td>4.0</td>\n",
       "      <td>55.0</td>\n",
       "      <td>11.0</td>\n",
       "      <td>72.0</td>\n",
       "      <td>0.512</td>\n",
       "      <td>0.112</td>\n",
       "      <td>0.624</td>\n",
       "      <td>1.142</td>\n",
       "      <td>N</td>\n",
       "      <td>11.0</td>\n",
       "      <td>Leic</td>\n",
       "      <td>0.375630</td>\n",
       "      <td>2.590800</td>\n",
       "      <td>352.428571</td>\n",
       "      <td>1.616659</td>\n",
       "      <td>0.234393</td>\n",
       "    </tr>\n",
       "    <tr>\n",
       "      <th>427</th>\n",
       "      <td>401.0</td>\n",
       "      <td>Isak</td>\n",
       "      <td>4.0</td>\n",
       "      <td>94.0</td>\n",
       "      <td>15.0</td>\n",
       "      <td>82.8</td>\n",
       "      <td>1.094</td>\n",
       "      <td>0.118</td>\n",
       "      <td>1.212</td>\n",
       "      <td>0.690</td>\n",
       "      <td>N</td>\n",
       "      <td>15.0</td>\n",
       "      <td>Newc</td>\n",
       "      <td>1.014951</td>\n",
       "      <td>1.355209</td>\n",
       "      <td>379.538462</td>\n",
       "      <td>1.642513</td>\n",
       "      <td>1.230121</td>\n",
       "    </tr>\n",
       "    <tr>\n",
       "      <th>94</th>\n",
       "      <td>623.0</td>\n",
       "      <td>M.Fernandes</td>\n",
       "      <td>3.0</td>\n",
       "      <td>50.0</td>\n",
       "      <td>17.0</td>\n",
       "      <td>64.8</td>\n",
       "      <td>0.258</td>\n",
       "      <td>0.158</td>\n",
       "      <td>0.416</td>\n",
       "      <td>1.260</td>\n",
       "      <td>N</td>\n",
       "      <td>17.0</td>\n",
       "      <td>Soton</td>\n",
       "      <td>0.347511</td>\n",
       "      <td>4.263600</td>\n",
       "      <td>386.153846</td>\n",
       "      <td>1.773658</td>\n",
       "      <td>0.144565</td>\n",
       "    </tr>\n",
       "  </tbody>\n",
       "</table>\n",
       "<p>491 rows × 18 columns</p>\n",
       "</div>"
      ],
      "text/plain": [
       "     playerid      web_name  element_type  now_cost  team  minutes_x   \n",
       "0         1.0  Fábio Vieira           3.0      54.0   1.0        0.0  \\\n",
       "141     722.0     Adu-Adjei           4.0      45.0   3.0        0.0   \n",
       "142     723.0          Sadi           3.0      45.0   3.0        0.0   \n",
       "306     678.0         Bates           3.0      45.0   8.0        0.0   \n",
       "304     614.0      Metcalfe           3.0      45.0   8.0        0.0   \n",
       "..        ...           ...           ...       ...   ...        ...   \n",
       "376     364.0          Amad           3.0      56.0  14.0       87.6   \n",
       "189     110.0         Wissa           4.0      62.0   4.0       86.8   \n",
       "249     306.0         Vardy           4.0      55.0  11.0       72.0   \n",
       "427     401.0          Isak           4.0      94.0  15.0       82.8   \n",
       "94      623.0   M.Fernandes           3.0      50.0  17.0       64.8   \n",
       "\n",
       "     expected_goals.gw  expected_assists.gw  expected_goal_involvements.gw   \n",
       "0                0.000                0.000                          0.000  \\\n",
       "141              0.000                0.000                          0.000   \n",
       "142              0.000                0.000                          0.000   \n",
       "306              0.000                0.000                          0.000   \n",
       "304              0.000                0.000                          0.000   \n",
       "..                 ...                  ...                            ...   \n",
       "376              0.396                0.264                          0.660   \n",
       "189              0.712                0.042                          0.754   \n",
       "249              0.512                0.112                          0.624   \n",
       "427              1.094                0.118                          1.212   \n",
       "94               0.258                0.158                          0.416   \n",
       "\n",
       "     expected_goals_conceded.gw ExcludeDef  OppTeam Teams.name  XGI_Weighted   \n",
       "0                         0.000          N      1.0        Ars      0.946934  \\\n",
       "141                       0.000          N      3.0       Bour      0.546879   \n",
       "142                       0.000          N      3.0       Bour      0.546879   \n",
       "306                       0.000          N      8.0         Ev      0.310717   \n",
       "304                       0.000          N      8.0         Ev      0.310717   \n",
       "..                          ...        ...      ...        ...           ...   \n",
       "376                       1.562          N     14.0       ManU      0.681879   \n",
       "189                       1.326          N      4.0       Bfrd      0.649845   \n",
       "249                       1.142          N     11.0       Leic      0.375630   \n",
       "427                       0.690          N     15.0       Newc      1.014951   \n",
       "94                        1.260          N     17.0      Soton      0.347511   \n",
       "\n",
       "     XGC_Weighted     Minutes  AttackOpp2  DefenceOpp2  \n",
       "0        1.086574  379.615385    0.000000     0.000000  \n",
       "141      2.389010  379.461538    0.000000     0.000000  \n",
       "142      2.389010  379.461538    0.000000     0.000000  \n",
       "306      2.283531  352.642857    0.000000     0.000000  \n",
       "304      2.283531  352.642857    0.000000     0.000000  \n",
       "..            ...         ...         ...          ...  \n",
       "376      2.381991  349.214286    1.572114     0.450040  \n",
       "189      2.129393  352.857143    1.605562     0.489983  \n",
       "249      2.590800  352.428571    1.616659     0.234393  \n",
       "427      1.355209  379.538462    1.642513     1.230121  \n",
       "94       4.263600  386.153846    1.773658     0.144565  \n",
       "\n",
       "[491 rows x 18 columns]"
      ]
     },
     "execution_count": 176,
     "metadata": {},
     "output_type": "execute_result"
    }
   ],
   "source": [
    "### Returns combinations of historic XG stats from players multiplied by historic opposition team performance\n",
    "\n",
    "OpportunitiesCalc = pd.merge(grouped_dfLast4Weeks, Elements_Dim2Grouped2,left_on='team', right_on='OppTeam', how='outer')\n",
    "\n",
    "OpportunitiesCalc['AttackOpp2'] = OpportunitiesCalc['XGC_Weighted']*OpportunitiesCalc['expected_goal_involvements.gw']\n",
    "\n",
    "OpportunitiesCalc['DefenceOpp2'] = OpportunitiesCalc['XGI_Weighted']*OpportunitiesCalc['expected_goal_involvements.gw']\n",
    "\n",
    "OpportunitiesCalc.sort_values(by=['AttackOpp2'])\n"
   ]
  },
  {
   "cell_type": "code",
   "execution_count": 177,
   "metadata": {},
   "outputs": [
    {
     "data": {
      "text/html": [
       "<div>\n",
       "<style scoped>\n",
       "    .dataframe tbody tr th:only-of-type {\n",
       "        vertical-align: middle;\n",
       "    }\n",
       "\n",
       "    .dataframe tbody tr th {\n",
       "        vertical-align: top;\n",
       "    }\n",
       "\n",
       "    .dataframe thead th {\n",
       "        text-align: right;\n",
       "    }\n",
       "</style>\n",
       "<table border=\"1\" class=\"dataframe\">\n",
       "  <thead>\n",
       "    <tr style=\"text-align: right;\">\n",
       "      <th></th>\n",
       "      <th>element</th>\n",
       "      <th>is_captain</th>\n",
       "    </tr>\n",
       "  </thead>\n",
       "  <tbody>\n",
       "    <tr>\n",
       "      <th>0</th>\n",
       "      <td>15</td>\n",
       "      <td>False</td>\n",
       "    </tr>\n",
       "    <tr>\n",
       "      <th>1</th>\n",
       "      <td>255</td>\n",
       "      <td>False</td>\n",
       "    </tr>\n",
       "    <tr>\n",
       "      <th>2</th>\n",
       "      <td>594</td>\n",
       "      <td>False</td>\n",
       "    </tr>\n",
       "    <tr>\n",
       "      <th>3</th>\n",
       "      <td>422</td>\n",
       "      <td>False</td>\n",
       "    </tr>\n",
       "    <tr>\n",
       "      <th>4</th>\n",
       "      <td>78</td>\n",
       "      <td>False</td>\n",
       "    </tr>\n",
       "  </tbody>\n",
       "</table>\n",
       "</div>"
      ],
      "text/plain": [
       "   element  is_captain\n",
       "0       15       False\n",
       "1      255       False\n",
       "2      594       False\n",
       "3      422       False\n",
       "4       78       False"
      ]
     },
     "execution_count": 177,
     "metadata": {},
     "output_type": "execute_result"
    }
   ],
   "source": [
    "url = f\"https://fantasy.premierleague.com/api/entry/{TeamID}/event/{PrevWeek}/picks/\"\n",
    "response = requests.get(url)\n",
    "json_data = response.json()\n",
    "\n",
    "TeamSelection = json_data['picks']\n",
    "\n",
    "TeamSelection = pd.json_normalize(TeamSelection)\n",
    "\n",
    "TeamSelection1 = TeamSelection[['element','is_captain']]\n",
    "\n",
    "TeamSelection1.head()"
   ]
  },
  {
   "cell_type": "code",
   "execution_count": 178,
   "metadata": {},
   "outputs": [
    {
     "name": "stderr",
     "output_type": "stream",
     "text": [
      "C:\\Users\\james\\AppData\\Local\\Temp\\ipykernel_32140\\164541063.py:33: UserWarning:\n",
      "\n",
      "Boolean Series key will be reindexed to match DataFrame index.\n",
      "\n"
     ]
    }
   ],
   "source": [
    "##### Returns Output 1 FixturesElementsAll\n",
    "FixturesElementsAll1 = pd.merge(FixturesConcat, Elements_Dim2Grouped2,left_on='OppTeam2', right_on='OppTeam', how='outer')\n",
    "\n",
    "FixturesElementsAll2 = pd.merge(grouped_dfLast4Weeks, FixturesElementsAll1,left_on='team', right_on='TeamID', how='outer')\n",
    "\n",
    "FixturesElementsAll3 =  pd.merge(TeamSelection1, FixturesElementsAll2,left_on='element', right_on='playerid', how='outer')\n",
    "\n",
    "FixturesElementsAll3['InCurrentTeam']= np.where(\n",
    "    FixturesElementsAll3['element'].notnull(),\n",
    "    1,\n",
    "    0\n",
    ")\n",
    "\n",
    "FixturesElementsAll3['AttackOpp_pergame'] = FixturesElementsAll3['XGC_Weighted']*FixturesElementsAll3['expected_goal_involvements.gw']\n",
    "\n",
    "FixturesElementsAll3['DefenceOpp_pergame'] = FixturesElementsAll3['XGI_Weighted']*FixturesElementsAll3['expected_goals_conceded.gw']\n",
    "\n",
    "FixturesElementsAll3.to_csv('FixturesElementsAll.csv')\n",
    "\n",
    "FixturesElementsAll3['xGIAvg_Player']=FixturesElementsAll3['expected_goal_involvements.gw'].astype(str)+'-'+FixturesElementsAll3['web_name']\n",
    "\n",
    "\n",
    "FixturesElementsAll2Att=FixturesElementsAll3[FixturesElementsAll3['element_type']>2]\n",
    "\n",
    "# Calculate total AttackOpp_pergame for each player\n",
    "FixturesElementsAll2Att = FixturesElementsAll2Att[FixturesElementsAll2Att['event']<UpcomingWeek+10]\n",
    "FixturesElementsAll2_totalsAtt = FixturesElementsAll2Att.groupby('web_name')['AttackOpp_pergame'].sum().reset_index()\n",
    "\n",
    "# Sort players by total AttackOpp_pergame and select top 20\n",
    "top_players = FixturesElementsAll2_totalsAtt.sort_values(by='AttackOpp_pergame', ascending=False).head(20)\n",
    "\n",
    "# Filter original DataFrame to include only top 20 players\n",
    "FixturesElementsAll2AttFiltered = FixturesElementsAll2Att[FixturesElementsAll3['web_name'].isin(top_players['web_name'])]\n",
    "\n"
   ]
  },
  {
   "cell_type": "code",
   "execution_count": 183,
   "metadata": {},
   "outputs": [
    {
     "data": {
      "application/vnd.plotly.v1+json": {
       "config": {
        "plotlyServerURL": "https://plot.ly"
       },
       "data": [
        {
         "colorscale": [
          [
           0,
           "rgb(255,245,240)"
          ],
          [
           0.125,
           "rgb(254,224,210)"
          ],
          [
           0.25,
           "rgb(252,187,161)"
          ],
          [
           0.375,
           "rgb(252,146,114)"
          ],
          [
           0.5,
           "rgb(251,106,74)"
          ],
          [
           0.625,
           "rgb(239,59,44)"
          ],
          [
           0.75,
           "rgb(203,24,29)"
          ],
          [
           0.875,
           "rgb(165,15,21)"
          ],
          [
           1,
           "rgb(103,0,13)"
          ]
         ],
         "text": [
          [
           null,
           "Bfrd",
           "ManU",
           "Ev",
           "Ful",
           "Villa",
           "Ips",
           "Newc",
           "Soton",
           "Bri"
          ],
          [
           "Wolv",
           "ManC",
           "WHam",
           "Bri",
           "Villa",
           "Soton",
           "Leic",
           "Ars",
           "Spurs",
           "Bfrd"
          ],
          [
           null,
           "Wolv",
           "ManC",
           "Leic",
           "WHam",
           "For't",
           "ManU",
           "Chel",
           "Ful",
           "Ev"
          ],
          [
           null,
           "Wolv",
           "ManC",
           "Leic",
           "WHam",
           "For't",
           "ManU",
           "Chel",
           "Ful",
           "Ev"
          ],
          [
           null,
           "Ips",
           "Bour | Ev",
           "Wolv",
           "ManC",
           "Newc",
           "Soton",
           "Villa",
           "Ev",
           "Ful"
          ],
          [
           null,
           "Ips",
           "Bour | Ev",
           "Wolv",
           "ManC",
           "Newc",
           "Soton",
           "Villa",
           "Ev",
           "Ful"
          ],
          [
           null,
           "For't",
           "LPool",
           "Soton",
           "Wolv",
           "Bri",
           "Spurs",
           "Bfrd",
           "Ips",
           "WHam"
          ],
          [
           null,
           "Bfrd",
           "ManU",
           "Ev",
           "Ful",
           "Villa",
           "Ips",
           "Newc",
           "Soton",
           "Bri"
          ],
          [
           null,
           "Ips",
           "Bour | Ev",
           "Wolv",
           "ManC",
           "Newc",
           "Soton",
           "Villa",
           "Ev",
           "Ful"
          ],
          [
           null,
           "Spurs",
           "Ev",
           "Ars",
           "Bfrd",
           "WHam",
           "Chel",
           "ManU",
           "ManC",
           "Newc"
          ],
          [
           null,
           "Soton",
           "Ful",
           "ManC",
           "For't",
           "LPool",
           "WHam",
           "CryP",
           "Bfrd",
           "Leic"
          ],
          [
           null,
           "ManU",
           "Newc",
           "For't",
           "CryP",
           "Wolv",
           "Bri",
           "Spurs",
           "Ars",
           "LPool"
          ],
          [
           null,
           "CryP",
           "Spurs",
           "WHam",
           "Leic",
           "Ev",
           "Villa",
           "Bour",
           "Newc",
           "Chel"
          ],
          [
           null,
           "Chel",
           "Ars",
           "Newc",
           "LPool",
           "Spurs",
           "For't",
           "Bri",
           "Leic",
           "ManU"
          ],
          [
           null,
           "Ful",
           "CryP",
           "Spurs",
           "Ev",
           "Ips",
           "Ars",
           "Leic",
           "For't",
           "ManC"
          ],
          [
           "Wolv",
           "ManC",
           "WHam",
           "Bri",
           "Villa",
           "Soton",
           "Leic",
           "Ars",
           "Spurs",
           "Bfrd"
          ],
          [
           null,
           "Chel",
           "Ars",
           "Newc",
           "LPool",
           "Spurs",
           "For't",
           "Bri",
           "Leic",
           "ManU"
          ],
          [
           null,
           "CryP",
           "Spurs",
           "WHam",
           "Leic",
           "Ev",
           "Villa",
           "Bour",
           "Newc",
           "Chel"
          ],
          [
           null,
           "Soton",
           "Ful",
           "ManC",
           "For't",
           "LPool",
           "WHam",
           "CryP",
           "Bfrd",
           "Leic"
          ],
          [
           null,
           "Ips",
           "Bour | Ev",
           "Wolv",
           "ManC",
           "Newc",
           "Soton",
           "Villa",
           "Ev",
           "Ful"
          ]
         ],
         "textfont": {
          "size": 10
         },
         "texttemplate": "%{text}",
         "type": "heatmap",
         "x": [
          22,
          23,
          24,
          25,
          26,
          27,
          28,
          29,
          30,
          31
         ],
         "y": [
          "0.45599999999999996-I.Sarr",
          "0.48-N.Jackson",
          "0.48200000000000004-G.Jesus",
          "0.492-Havertz",
          "0.514-Mac Allister",
          "0.516-Gakpo",
          "0.522-Kluivert",
          "0.542-Mateta",
          "0.554-Szoboszlai",
          "0.624-Vardy",
          "0.626-Gordon",
          "0.636-Raúl",
          "0.642-Mbeumo",
          "0.658-Foden",
          "0.6599999999999999-Amad",
          "0.6839999999999999-Palmer",
          "0.6980000000000001-Haaland",
          "0.754-Wissa",
          "1.212-Isak",
          "1.468-M.Salah"
         ],
         "z": [
          [
           null,
           2.129392732272,
           2.381990579408,
           2.283530585248,
           1.8199195200400002,
           1.94384467784,
           3.2232,
           1.355209074128,
           4.263599999999999,
           1.49982855852
          ],
          [
           2.5404312955119996,
           1.7852262504000003,
           2.7712017091199996,
           1.49982855852,
           1.94384467784,
           4.263599999999999,
           2.5908,
           1.086573810728,
           2.638365940352,
           2.129392732272
          ],
          [
           null,
           2.5404312955119996,
           1.7852262504000003,
           2.5908,
           2.7712017091199996,
           1.989933087112,
           2.381990579408,
           1.81588111684,
           1.8199195200400002,
           2.283530585248
          ],
          [
           null,
           2.5404312955119996,
           1.7852262504000003,
           2.5908,
           2.7712017091199996,
           1.989933087112,
           2.381990579408,
           1.81588111684,
           1.8199195200400002,
           2.283530585248
          ],
          [
           null,
           3.2232,
           2.336270480809,
           2.5404312955119996,
           1.7852262504000003,
           1.355209074128,
           4.263599999999999,
           1.94384467784,
           2.283530585248,
           1.8199195200400002
          ],
          [
           null,
           3.2232,
           2.336270480809,
           2.5404312955119996,
           1.7852262504000003,
           1.355209074128,
           4.263599999999999,
           1.94384467784,
           2.283530585248,
           1.8199195200400002
          ],
          [
           null,
           1.989933087112,
           0.853166589346,
           4.263599999999999,
           2.5404312955119996,
           1.49982855852,
           2.638365940352,
           2.129392732272,
           3.2232,
           2.7712017091199996
          ],
          [
           null,
           2.129392732272,
           2.381990579408,
           2.283530585248,
           1.8199195200400002,
           1.94384467784,
           3.2232,
           1.355209074128,
           4.263599999999999,
           1.49982855852
          ],
          [
           null,
           3.2232,
           2.336270480809,
           2.5404312955119996,
           1.7852262504000003,
           1.355209074128,
           4.263599999999999,
           1.94384467784,
           2.283530585248,
           1.8199195200400002
          ],
          [
           null,
           2.638365940352,
           2.283530585248,
           1.086573810728,
           2.129392732272,
           2.7712017091199996,
           1.81588111684,
           2.381990579408,
           1.7852262504000003,
           1.355209074128
          ],
          [
           null,
           4.263599999999999,
           1.8199195200400002,
           1.7852262504000003,
           1.989933087112,
           0.853166589346,
           2.7712017091199996,
           2.7664565851200003,
           2.129392732272,
           2.5908
          ],
          [
           null,
           2.381990579408,
           1.355209074128,
           1.989933087112,
           2.7664565851200003,
           2.5404312955119996,
           1.49982855852,
           2.638365940352,
           1.086573810728,
           0.853166589346
          ],
          [
           null,
           2.7664565851200003,
           2.638365940352,
           2.7712017091199996,
           2.5908,
           2.283530585248,
           1.94384467784,
           2.38901037637,
           1.355209074128,
           1.81588111684
          ],
          [
           null,
           1.81588111684,
           1.086573810728,
           1.355209074128,
           0.853166589346,
           2.638365940352,
           1.989933087112,
           1.49982855852,
           2.5908,
           2.381990579408
          ],
          [
           null,
           1.8199195200400002,
           2.7664565851200003,
           2.638365940352,
           2.283530585248,
           3.2232,
           1.086573810728,
           2.5908,
           1.989933087112,
           1.7852262504000003
          ],
          [
           2.5404312955119996,
           1.7852262504000003,
           2.7712017091199996,
           1.49982855852,
           1.94384467784,
           4.263599999999999,
           2.5908,
           1.086573810728,
           2.638365940352,
           2.129392732272
          ],
          [
           null,
           1.81588111684,
           1.086573810728,
           1.355209074128,
           0.853166589346,
           2.638365940352,
           1.989933087112,
           1.49982855852,
           2.5908,
           2.381990579408
          ],
          [
           null,
           2.7664565851200003,
           2.638365940352,
           2.7712017091199996,
           2.5908,
           2.283530585248,
           1.94384467784,
           2.38901037637,
           1.355209074128,
           1.81588111684
          ],
          [
           null,
           4.263599999999999,
           1.8199195200400002,
           1.7852262504000003,
           1.989933087112,
           0.853166589346,
           2.7712017091199996,
           2.7664565851200003,
           2.129392732272,
           2.5908
          ],
          [
           null,
           3.2232,
           2.336270480809,
           2.5404312955119996,
           1.7852262504000003,
           1.355209074128,
           4.263599999999999,
           1.94384467784,
           2.283530585248,
           1.8199195200400002
          ]
         ]
        }
       ],
       "layout": {
        "template": {
         "data": {
          "bar": [
           {
            "error_x": {
             "color": "#2a3f5f"
            },
            "error_y": {
             "color": "#2a3f5f"
            },
            "marker": {
             "line": {
              "color": "#E5ECF6",
              "width": 0.5
             },
             "pattern": {
              "fillmode": "overlay",
              "size": 10,
              "solidity": 0.2
             }
            },
            "type": "bar"
           }
          ],
          "barpolar": [
           {
            "marker": {
             "line": {
              "color": "#E5ECF6",
              "width": 0.5
             },
             "pattern": {
              "fillmode": "overlay",
              "size": 10,
              "solidity": 0.2
             }
            },
            "type": "barpolar"
           }
          ],
          "carpet": [
           {
            "aaxis": {
             "endlinecolor": "#2a3f5f",
             "gridcolor": "white",
             "linecolor": "white",
             "minorgridcolor": "white",
             "startlinecolor": "#2a3f5f"
            },
            "baxis": {
             "endlinecolor": "#2a3f5f",
             "gridcolor": "white",
             "linecolor": "white",
             "minorgridcolor": "white",
             "startlinecolor": "#2a3f5f"
            },
            "type": "carpet"
           }
          ],
          "choropleth": [
           {
            "colorbar": {
             "outlinewidth": 0,
             "ticks": ""
            },
            "type": "choropleth"
           }
          ],
          "contour": [
           {
            "colorbar": {
             "outlinewidth": 0,
             "ticks": ""
            },
            "colorscale": [
             [
              0,
              "#0d0887"
             ],
             [
              0.1111111111111111,
              "#46039f"
             ],
             [
              0.2222222222222222,
              "#7201a8"
             ],
             [
              0.3333333333333333,
              "#9c179e"
             ],
             [
              0.4444444444444444,
              "#bd3786"
             ],
             [
              0.5555555555555556,
              "#d8576b"
             ],
             [
              0.6666666666666666,
              "#ed7953"
             ],
             [
              0.7777777777777778,
              "#fb9f3a"
             ],
             [
              0.8888888888888888,
              "#fdca26"
             ],
             [
              1,
              "#f0f921"
             ]
            ],
            "type": "contour"
           }
          ],
          "contourcarpet": [
           {
            "colorbar": {
             "outlinewidth": 0,
             "ticks": ""
            },
            "type": "contourcarpet"
           }
          ],
          "heatmap": [
           {
            "colorbar": {
             "outlinewidth": 0,
             "ticks": ""
            },
            "colorscale": [
             [
              0,
              "#0d0887"
             ],
             [
              0.1111111111111111,
              "#46039f"
             ],
             [
              0.2222222222222222,
              "#7201a8"
             ],
             [
              0.3333333333333333,
              "#9c179e"
             ],
             [
              0.4444444444444444,
              "#bd3786"
             ],
             [
              0.5555555555555556,
              "#d8576b"
             ],
             [
              0.6666666666666666,
              "#ed7953"
             ],
             [
              0.7777777777777778,
              "#fb9f3a"
             ],
             [
              0.8888888888888888,
              "#fdca26"
             ],
             [
              1,
              "#f0f921"
             ]
            ],
            "type": "heatmap"
           }
          ],
          "heatmapgl": [
           {
            "colorbar": {
             "outlinewidth": 0,
             "ticks": ""
            },
            "colorscale": [
             [
              0,
              "#0d0887"
             ],
             [
              0.1111111111111111,
              "#46039f"
             ],
             [
              0.2222222222222222,
              "#7201a8"
             ],
             [
              0.3333333333333333,
              "#9c179e"
             ],
             [
              0.4444444444444444,
              "#bd3786"
             ],
             [
              0.5555555555555556,
              "#d8576b"
             ],
             [
              0.6666666666666666,
              "#ed7953"
             ],
             [
              0.7777777777777778,
              "#fb9f3a"
             ],
             [
              0.8888888888888888,
              "#fdca26"
             ],
             [
              1,
              "#f0f921"
             ]
            ],
            "type": "heatmapgl"
           }
          ],
          "histogram": [
           {
            "marker": {
             "pattern": {
              "fillmode": "overlay",
              "size": 10,
              "solidity": 0.2
             }
            },
            "type": "histogram"
           }
          ],
          "histogram2d": [
           {
            "colorbar": {
             "outlinewidth": 0,
             "ticks": ""
            },
            "colorscale": [
             [
              0,
              "#0d0887"
             ],
             [
              0.1111111111111111,
              "#46039f"
             ],
             [
              0.2222222222222222,
              "#7201a8"
             ],
             [
              0.3333333333333333,
              "#9c179e"
             ],
             [
              0.4444444444444444,
              "#bd3786"
             ],
             [
              0.5555555555555556,
              "#d8576b"
             ],
             [
              0.6666666666666666,
              "#ed7953"
             ],
             [
              0.7777777777777778,
              "#fb9f3a"
             ],
             [
              0.8888888888888888,
              "#fdca26"
             ],
             [
              1,
              "#f0f921"
             ]
            ],
            "type": "histogram2d"
           }
          ],
          "histogram2dcontour": [
           {
            "colorbar": {
             "outlinewidth": 0,
             "ticks": ""
            },
            "colorscale": [
             [
              0,
              "#0d0887"
             ],
             [
              0.1111111111111111,
              "#46039f"
             ],
             [
              0.2222222222222222,
              "#7201a8"
             ],
             [
              0.3333333333333333,
              "#9c179e"
             ],
             [
              0.4444444444444444,
              "#bd3786"
             ],
             [
              0.5555555555555556,
              "#d8576b"
             ],
             [
              0.6666666666666666,
              "#ed7953"
             ],
             [
              0.7777777777777778,
              "#fb9f3a"
             ],
             [
              0.8888888888888888,
              "#fdca26"
             ],
             [
              1,
              "#f0f921"
             ]
            ],
            "type": "histogram2dcontour"
           }
          ],
          "mesh3d": [
           {
            "colorbar": {
             "outlinewidth": 0,
             "ticks": ""
            },
            "type": "mesh3d"
           }
          ],
          "parcoords": [
           {
            "line": {
             "colorbar": {
              "outlinewidth": 0,
              "ticks": ""
             }
            },
            "type": "parcoords"
           }
          ],
          "pie": [
           {
            "automargin": true,
            "type": "pie"
           }
          ],
          "scatter": [
           {
            "fillpattern": {
             "fillmode": "overlay",
             "size": 10,
             "solidity": 0.2
            },
            "type": "scatter"
           }
          ],
          "scatter3d": [
           {
            "line": {
             "colorbar": {
              "outlinewidth": 0,
              "ticks": ""
             }
            },
            "marker": {
             "colorbar": {
              "outlinewidth": 0,
              "ticks": ""
             }
            },
            "type": "scatter3d"
           }
          ],
          "scattercarpet": [
           {
            "marker": {
             "colorbar": {
              "outlinewidth": 0,
              "ticks": ""
             }
            },
            "type": "scattercarpet"
           }
          ],
          "scattergeo": [
           {
            "marker": {
             "colorbar": {
              "outlinewidth": 0,
              "ticks": ""
             }
            },
            "type": "scattergeo"
           }
          ],
          "scattergl": [
           {
            "marker": {
             "colorbar": {
              "outlinewidth": 0,
              "ticks": ""
             }
            },
            "type": "scattergl"
           }
          ],
          "scattermapbox": [
           {
            "marker": {
             "colorbar": {
              "outlinewidth": 0,
              "ticks": ""
             }
            },
            "type": "scattermapbox"
           }
          ],
          "scatterpolar": [
           {
            "marker": {
             "colorbar": {
              "outlinewidth": 0,
              "ticks": ""
             }
            },
            "type": "scatterpolar"
           }
          ],
          "scatterpolargl": [
           {
            "marker": {
             "colorbar": {
              "outlinewidth": 0,
              "ticks": ""
             }
            },
            "type": "scatterpolargl"
           }
          ],
          "scatterternary": [
           {
            "marker": {
             "colorbar": {
              "outlinewidth": 0,
              "ticks": ""
             }
            },
            "type": "scatterternary"
           }
          ],
          "surface": [
           {
            "colorbar": {
             "outlinewidth": 0,
             "ticks": ""
            },
            "colorscale": [
             [
              0,
              "#0d0887"
             ],
             [
              0.1111111111111111,
              "#46039f"
             ],
             [
              0.2222222222222222,
              "#7201a8"
             ],
             [
              0.3333333333333333,
              "#9c179e"
             ],
             [
              0.4444444444444444,
              "#bd3786"
             ],
             [
              0.5555555555555556,
              "#d8576b"
             ],
             [
              0.6666666666666666,
              "#ed7953"
             ],
             [
              0.7777777777777778,
              "#fb9f3a"
             ],
             [
              0.8888888888888888,
              "#fdca26"
             ],
             [
              1,
              "#f0f921"
             ]
            ],
            "type": "surface"
           }
          ],
          "table": [
           {
            "cells": {
             "fill": {
              "color": "#EBF0F8"
             },
             "line": {
              "color": "white"
             }
            },
            "header": {
             "fill": {
              "color": "#C8D4E3"
             },
             "line": {
              "color": "white"
             }
            },
            "type": "table"
           }
          ]
         },
         "layout": {
          "annotationdefaults": {
           "arrowcolor": "#2a3f5f",
           "arrowhead": 0,
           "arrowwidth": 1
          },
          "autotypenumbers": "strict",
          "coloraxis": {
           "colorbar": {
            "outlinewidth": 0,
            "ticks": ""
           }
          },
          "colorscale": {
           "diverging": [
            [
             0,
             "#8e0152"
            ],
            [
             0.1,
             "#c51b7d"
            ],
            [
             0.2,
             "#de77ae"
            ],
            [
             0.3,
             "#f1b6da"
            ],
            [
             0.4,
             "#fde0ef"
            ],
            [
             0.5,
             "#f7f7f7"
            ],
            [
             0.6,
             "#e6f5d0"
            ],
            [
             0.7,
             "#b8e186"
            ],
            [
             0.8,
             "#7fbc41"
            ],
            [
             0.9,
             "#4d9221"
            ],
            [
             1,
             "#276419"
            ]
           ],
           "sequential": [
            [
             0,
             "#0d0887"
            ],
            [
             0.1111111111111111,
             "#46039f"
            ],
            [
             0.2222222222222222,
             "#7201a8"
            ],
            [
             0.3333333333333333,
             "#9c179e"
            ],
            [
             0.4444444444444444,
             "#bd3786"
            ],
            [
             0.5555555555555556,
             "#d8576b"
            ],
            [
             0.6666666666666666,
             "#ed7953"
            ],
            [
             0.7777777777777778,
             "#fb9f3a"
            ],
            [
             0.8888888888888888,
             "#fdca26"
            ],
            [
             1,
             "#f0f921"
            ]
           ],
           "sequentialminus": [
            [
             0,
             "#0d0887"
            ],
            [
             0.1111111111111111,
             "#46039f"
            ],
            [
             0.2222222222222222,
             "#7201a8"
            ],
            [
             0.3333333333333333,
             "#9c179e"
            ],
            [
             0.4444444444444444,
             "#bd3786"
            ],
            [
             0.5555555555555556,
             "#d8576b"
            ],
            [
             0.6666666666666666,
             "#ed7953"
            ],
            [
             0.7777777777777778,
             "#fb9f3a"
            ],
            [
             0.8888888888888888,
             "#fdca26"
            ],
            [
             1,
             "#f0f921"
            ]
           ]
          },
          "colorway": [
           "#636efa",
           "#EF553B",
           "#00cc96",
           "#ab63fa",
           "#FFA15A",
           "#19d3f3",
           "#FF6692",
           "#B6E880",
           "#FF97FF",
           "#FECB52"
          ],
          "font": {
           "color": "#2a3f5f"
          },
          "geo": {
           "bgcolor": "white",
           "lakecolor": "white",
           "landcolor": "#E5ECF6",
           "showlakes": true,
           "showland": true,
           "subunitcolor": "white"
          },
          "hoverlabel": {
           "align": "left"
          },
          "hovermode": "closest",
          "mapbox": {
           "style": "light"
          },
          "paper_bgcolor": "white",
          "plot_bgcolor": "#E5ECF6",
          "polar": {
           "angularaxis": {
            "gridcolor": "white",
            "linecolor": "white",
            "ticks": ""
           },
           "bgcolor": "#E5ECF6",
           "radialaxis": {
            "gridcolor": "white",
            "linecolor": "white",
            "ticks": ""
           }
          },
          "scene": {
           "xaxis": {
            "backgroundcolor": "#E5ECF6",
            "gridcolor": "white",
            "gridwidth": 2,
            "linecolor": "white",
            "showbackground": true,
            "ticks": "",
            "zerolinecolor": "white"
           },
           "yaxis": {
            "backgroundcolor": "#E5ECF6",
            "gridcolor": "white",
            "gridwidth": 2,
            "linecolor": "white",
            "showbackground": true,
            "ticks": "",
            "zerolinecolor": "white"
           },
           "zaxis": {
            "backgroundcolor": "#E5ECF6",
            "gridcolor": "white",
            "gridwidth": 2,
            "linecolor": "white",
            "showbackground": true,
            "ticks": "",
            "zerolinecolor": "white"
           }
          },
          "shapedefaults": {
           "line": {
            "color": "#2a3f5f"
           }
          },
          "ternary": {
           "aaxis": {
            "gridcolor": "white",
            "linecolor": "white",
            "ticks": ""
           },
           "baxis": {
            "gridcolor": "white",
            "linecolor": "white",
            "ticks": ""
           },
           "bgcolor": "#E5ECF6",
           "caxis": {
            "gridcolor": "white",
            "linecolor": "white",
            "ticks": ""
           }
          },
          "title": {
           "x": 0.05
          },
          "xaxis": {
           "automargin": true,
           "gridcolor": "white",
           "linecolor": "white",
           "ticks": "",
           "title": {
            "standoff": 15
           },
           "zerolinecolor": "white",
           "zerolinewidth": 2
          },
          "yaxis": {
           "automargin": true,
           "gridcolor": "white",
           "linecolor": "white",
           "ticks": "",
           "title": {
            "standoff": 15
           },
           "zerolinecolor": "white",
           "zerolinewidth": 2
          }
         }
        }
       }
      }
     },
     "metadata": {},
     "output_type": "display_data"
    }
   ],
   "source": [
    "import plotly.graph_objects as go\n",
    "import pandas as pd\n",
    "\n",
    "# Assuming FixturesElementsAll2Viz is your DataFrame\n",
    "# FixturesElementsAll2Viz = pd.DataFrame(...) # your data here\n",
    "\n",
    "# Pivot the DataFrame using pivot_table with an aggregation function\n",
    "heatmap_data = FixturesElementsAll2AttFiltered.pivot_table(\n",
    "    index='xGIAvg_Player',\n",
    "    columns='event',\n",
    "    values='XGC_Weighted',\n",
    "    aggfunc='mean'  # You can change this to an appropriate function like sum, max, etc.\n",
    ")\n",
    "text_data = FixturesElementsAll2AttFiltered.pivot_table(\n",
    "    index='xGIAvg_Player',\n",
    "    columns='event',\n",
    "    values='Teams.name',\n",
    "    aggfunc=lambda x: ' | '.join(x)  # Aggregates Team.name values\n",
    ")\n",
    "\n",
    "# Create the heatmap\n",
    "fig = go.Figure(data=go.Heatmap(\n",
    "    z=heatmap_data.values,\n",
    "    x=heatmap_data.columns,\n",
    "    y=heatmap_data.index,\n",
    "    text=text_data.values,\n",
    "    texttemplate=\"%{text}\",\n",
    "    textfont={\"size\":10},\n",
    "    colorscale='reds'\n",
    "))\n",
    "\n",
    "# Display the figure\n",
    "fig.show()\n",
    "\n"
   ]
  },
  {
   "cell_type": "code",
   "execution_count": 180,
   "metadata": {},
   "outputs": [
    {
     "ename": "KeyError",
     "evalue": "\"['AttackOpp_pergame', 'DefenceOpp_pergame'] not in index\"",
     "output_type": "error",
     "traceback": [
      "\u001b[1;31m---------------------------------------------------------------------------\u001b[0m",
      "\u001b[1;31mKeyError\u001b[0m                                  Traceback (most recent call last)",
      "Cell \u001b[1;32mIn[180], line 5\u001b[0m\n\u001b[0;32m      1\u001b[0m \u001b[38;5;66;03m##### Returns Output 2 FixturesElementsAllGrouped for previous 4 weeks\u001b[39;00m\n\u001b[0;32m      3\u001b[0m FixturesElementsAllGrouped \u001b[38;5;241m=\u001b[39m FixturesElementsAll2[FixturesElementsAll2[\u001b[38;5;124m'\u001b[39m\u001b[38;5;124mevent\u001b[39m\u001b[38;5;124m'\u001b[39m]\u001b[38;5;241m>\u001b[39mUpcomingWeek\u001b[38;5;241m-\u001b[39mNoForecastWeeks\u001b[38;5;241m-\u001b[39m\u001b[38;5;241m1\u001b[39m]\n\u001b[1;32m----> 5\u001b[0m FixturesElementsAllGrouped \u001b[38;5;241m=\u001b[39m \u001b[43mFixturesElementsAllGrouped\u001b[49m\u001b[43m[\u001b[49m\u001b[43m[\u001b[49m\u001b[38;5;124;43m'\u001b[39;49m\u001b[38;5;124;43mplayerid\u001b[39;49m\u001b[38;5;124;43m'\u001b[39;49m\u001b[43m,\u001b[49m\u001b[38;5;124;43m'\u001b[39;49m\u001b[38;5;124;43mweb_name\u001b[39;49m\u001b[38;5;124;43m'\u001b[39;49m\u001b[43m,\u001b[49m\u001b[38;5;124;43m'\u001b[39;49m\u001b[38;5;124;43melement_type\u001b[39;49m\u001b[38;5;124;43m'\u001b[39;49m\u001b[43m,\u001b[49m\u001b[38;5;124;43m'\u001b[39;49m\u001b[38;5;124;43mteam\u001b[39;49m\u001b[38;5;124;43m'\u001b[39;49m\u001b[43m,\u001b[49m\u001b[38;5;124;43m'\u001b[39;49m\u001b[38;5;124;43mnow_cost\u001b[39;49m\u001b[38;5;124;43m'\u001b[39;49m\u001b[43m,\u001b[49m\u001b[38;5;124;43m'\u001b[39;49m\u001b[38;5;124;43mexpected_goals.gw\u001b[39;49m\u001b[38;5;124;43m'\u001b[39;49m\u001b[43m,\u001b[49m\u001b[38;5;124;43m'\u001b[39;49m\u001b[38;5;124;43mexpected_assists.gw\u001b[39;49m\u001b[38;5;124;43m'\u001b[39;49m\u001b[43m,\u001b[49m\u001b[38;5;124;43m'\u001b[39;49m\u001b[38;5;124;43mexpected_goal_involvements.gw\u001b[39;49m\u001b[38;5;124;43m'\u001b[39;49m\u001b[43m,\u001b[49m\u001b[38;5;124;43m'\u001b[39;49m\u001b[38;5;124;43mexpected_goals_conceded.gw\u001b[39;49m\u001b[38;5;124;43m'\u001b[39;49m\u001b[43m,\u001b[49m\u001b[38;5;124;43m'\u001b[39;49m\u001b[38;5;124;43mXGI_Weighted\u001b[39;49m\u001b[38;5;124;43m'\u001b[39;49m\u001b[43m,\u001b[49m\u001b[38;5;124;43m'\u001b[39;49m\u001b[38;5;124;43mXGC_Weighted\u001b[39;49m\u001b[38;5;124;43m'\u001b[39;49m\u001b[43m,\u001b[49m\u001b[38;5;124;43m'\u001b[39;49m\u001b[38;5;124;43mAttackOpp_pergame\u001b[39;49m\u001b[38;5;124;43m'\u001b[39;49m\u001b[43m,\u001b[49m\u001b[38;5;124;43m'\u001b[39;49m\u001b[38;5;124;43mDefenceOpp_pergame\u001b[39;49m\u001b[38;5;124;43m'\u001b[39;49m\u001b[43m]\u001b[49m\u001b[43m]\u001b[49m\n\u001b[0;32m      7\u001b[0m FixturesElementsAllGrouped \u001b[38;5;241m=\u001b[39m FixturesElementsAllGrouped\u001b[38;5;241m.\u001b[39mgroupby([\u001b[38;5;124m'\u001b[39m\u001b[38;5;124mplayerid\u001b[39m\u001b[38;5;124m'\u001b[39m,\u001b[38;5;124m'\u001b[39m\u001b[38;5;124mweb_name\u001b[39m\u001b[38;5;124m'\u001b[39m,\u001b[38;5;124m'\u001b[39m\u001b[38;5;124melement_type\u001b[39m\u001b[38;5;124m'\u001b[39m,\u001b[38;5;124m'\u001b[39m\u001b[38;5;124mnow_cost\u001b[39m\u001b[38;5;124m'\u001b[39m,\u001b[38;5;124m'\u001b[39m\u001b[38;5;124mteam\u001b[39m\u001b[38;5;124m'\u001b[39m], as_index\u001b[38;5;241m=\u001b[39m\u001b[38;5;28;01mFalse\u001b[39;00m)[[\u001b[38;5;124m'\u001b[39m\u001b[38;5;124mexpected_goals.gw\u001b[39m\u001b[38;5;124m'\u001b[39m,\u001b[38;5;124m'\u001b[39m\u001b[38;5;124mexpected_assists.gw\u001b[39m\u001b[38;5;124m'\u001b[39m,\u001b[38;5;124m'\u001b[39m\u001b[38;5;124mexpected_goal_involvements.gw\u001b[39m\u001b[38;5;124m'\u001b[39m,\u001b[38;5;124m'\u001b[39m\u001b[38;5;124mexpected_goals_conceded.gw\u001b[39m\u001b[38;5;124m'\u001b[39m,\u001b[38;5;124m'\u001b[39m\u001b[38;5;124mXGI_Weighted\u001b[39m\u001b[38;5;124m'\u001b[39m,\u001b[38;5;124m'\u001b[39m\u001b[38;5;124mXGC_Weighted\u001b[39m\u001b[38;5;124m'\u001b[39m,\u001b[38;5;124m'\u001b[39m\u001b[38;5;124mAttackOpp_pergame\u001b[39m\u001b[38;5;124m'\u001b[39m,\u001b[38;5;124m'\u001b[39m\u001b[38;5;124mDefenceOpp_pergame\u001b[39m\u001b[38;5;124m'\u001b[39m]]\u001b[38;5;241m.\u001b[39mmean(numeric_only\u001b[38;5;241m=\u001b[39m\u001b[38;5;28;01mTrue\u001b[39;00m)\n\u001b[0;32m      9\u001b[0m FixturesElementsAllGrouped\u001b[38;5;241m.\u001b[39mto_csv(\u001b[38;5;124m'\u001b[39m\u001b[38;5;124mFixturesElementsAllGrouped.csv\u001b[39m\u001b[38;5;124m'\u001b[39m)\n",
      "File \u001b[1;32mc:\\Users\\james\\.vscode\\.conda\\lib\\site-packages\\pandas\\core\\frame.py:3766\u001b[0m, in \u001b[0;36mDataFrame.__getitem__\u001b[1;34m(self, key)\u001b[0m\n\u001b[0;32m   3764\u001b[0m     \u001b[38;5;28;01mif\u001b[39;00m is_iterator(key):\n\u001b[0;32m   3765\u001b[0m         key \u001b[38;5;241m=\u001b[39m \u001b[38;5;28mlist\u001b[39m(key)\n\u001b[1;32m-> 3766\u001b[0m     indexer \u001b[38;5;241m=\u001b[39m \u001b[38;5;28;43mself\u001b[39;49m\u001b[38;5;241;43m.\u001b[39;49m\u001b[43mcolumns\u001b[49m\u001b[38;5;241;43m.\u001b[39;49m\u001b[43m_get_indexer_strict\u001b[49m\u001b[43m(\u001b[49m\u001b[43mkey\u001b[49m\u001b[43m,\u001b[49m\u001b[43m \u001b[49m\u001b[38;5;124;43m\"\u001b[39;49m\u001b[38;5;124;43mcolumns\u001b[39;49m\u001b[38;5;124;43m\"\u001b[39;49m\u001b[43m)\u001b[49m[\u001b[38;5;241m1\u001b[39m]\n\u001b[0;32m   3768\u001b[0m \u001b[38;5;66;03m# take() does not accept boolean indexers\u001b[39;00m\n\u001b[0;32m   3769\u001b[0m \u001b[38;5;28;01mif\u001b[39;00m \u001b[38;5;28mgetattr\u001b[39m(indexer, \u001b[38;5;124m\"\u001b[39m\u001b[38;5;124mdtype\u001b[39m\u001b[38;5;124m\"\u001b[39m, \u001b[38;5;28;01mNone\u001b[39;00m) \u001b[38;5;241m==\u001b[39m \u001b[38;5;28mbool\u001b[39m:\n",
      "File \u001b[1;32mc:\\Users\\james\\.vscode\\.conda\\lib\\site-packages\\pandas\\core\\indexes\\base.py:5876\u001b[0m, in \u001b[0;36mIndex._get_indexer_strict\u001b[1;34m(self, key, axis_name)\u001b[0m\n\u001b[0;32m   5873\u001b[0m \u001b[38;5;28;01melse\u001b[39;00m:\n\u001b[0;32m   5874\u001b[0m     keyarr, indexer, new_indexer \u001b[38;5;241m=\u001b[39m \u001b[38;5;28mself\u001b[39m\u001b[38;5;241m.\u001b[39m_reindex_non_unique(keyarr)\n\u001b[1;32m-> 5876\u001b[0m \u001b[38;5;28;43mself\u001b[39;49m\u001b[38;5;241;43m.\u001b[39;49m\u001b[43m_raise_if_missing\u001b[49m\u001b[43m(\u001b[49m\u001b[43mkeyarr\u001b[49m\u001b[43m,\u001b[49m\u001b[43m \u001b[49m\u001b[43mindexer\u001b[49m\u001b[43m,\u001b[49m\u001b[43m \u001b[49m\u001b[43maxis_name\u001b[49m\u001b[43m)\u001b[49m\n\u001b[0;32m   5878\u001b[0m keyarr \u001b[38;5;241m=\u001b[39m \u001b[38;5;28mself\u001b[39m\u001b[38;5;241m.\u001b[39mtake(indexer)\n\u001b[0;32m   5879\u001b[0m \u001b[38;5;28;01mif\u001b[39;00m \u001b[38;5;28misinstance\u001b[39m(key, Index):\n\u001b[0;32m   5880\u001b[0m     \u001b[38;5;66;03m# GH 42790 - Preserve name from an Index\u001b[39;00m\n",
      "File \u001b[1;32mc:\\Users\\james\\.vscode\\.conda\\lib\\site-packages\\pandas\\core\\indexes\\base.py:5938\u001b[0m, in \u001b[0;36mIndex._raise_if_missing\u001b[1;34m(self, key, indexer, axis_name)\u001b[0m\n\u001b[0;32m   5935\u001b[0m     \u001b[38;5;28;01mraise\u001b[39;00m \u001b[38;5;167;01mKeyError\u001b[39;00m(\u001b[38;5;124mf\u001b[39m\u001b[38;5;124m\"\u001b[39m\u001b[38;5;124mNone of [\u001b[39m\u001b[38;5;132;01m{\u001b[39;00mkey\u001b[38;5;132;01m}\u001b[39;00m\u001b[38;5;124m] are in the [\u001b[39m\u001b[38;5;132;01m{\u001b[39;00maxis_name\u001b[38;5;132;01m}\u001b[39;00m\u001b[38;5;124m]\u001b[39m\u001b[38;5;124m\"\u001b[39m)\n\u001b[0;32m   5937\u001b[0m not_found \u001b[38;5;241m=\u001b[39m \u001b[38;5;28mlist\u001b[39m(ensure_index(key)[missing_mask\u001b[38;5;241m.\u001b[39mnonzero()[\u001b[38;5;241m0\u001b[39m]]\u001b[38;5;241m.\u001b[39munique())\n\u001b[1;32m-> 5938\u001b[0m \u001b[38;5;28;01mraise\u001b[39;00m \u001b[38;5;167;01mKeyError\u001b[39;00m(\u001b[38;5;124mf\u001b[39m\u001b[38;5;124m\"\u001b[39m\u001b[38;5;132;01m{\u001b[39;00mnot_found\u001b[38;5;132;01m}\u001b[39;00m\u001b[38;5;124m not in index\u001b[39m\u001b[38;5;124m\"\u001b[39m)\n",
      "\u001b[1;31mKeyError\u001b[0m: \"['AttackOpp_pergame', 'DefenceOpp_pergame'] not in index\""
     ]
    }
   ],
   "source": [
    "##### Returns Output 2 FixturesElementsAllGrouped for previous 4 weeks\n",
    "\n",
    "FixturesElementsAllGrouped = FixturesElementsAll2[FixturesElementsAll2['event']>UpcomingWeek-NoForecastWeeks-1]\n",
    "\n",
    "FixturesElementsAllGrouped = FixturesElementsAllGrouped[['playerid','web_name','element_type','team','now_cost','expected_goals.gw','expected_assists.gw','expected_goal_involvements.gw','expected_goals_conceded.gw','XGI_Weighted','XGC_Weighted','AttackOpp_pergame','DefenceOpp_pergame']]\n",
    "\n",
    "FixturesElementsAllGrouped = FixturesElementsAllGrouped.groupby(['playerid','web_name','element_type','now_cost','team'], as_index=False)[['expected_goals.gw','expected_assists.gw','expected_goal_involvements.gw','expected_goals_conceded.gw','XGI_Weighted','XGC_Weighted','AttackOpp_pergame','DefenceOpp_pergame']].mean(numeric_only=True)\n",
    "\n",
    "FixturesElementsAllGrouped.to_csv('FixturesElementsAllGrouped.csv')"
   ]
  },
  {
   "cell_type": "code",
   "execution_count": 16,
   "metadata": {},
   "outputs": [],
   "source": [
    "FixturesElementsAllGroupedwithTS = pd.merge(FixturesElementsAllGrouped, TeamSelection,left_on='playerid', right_on='element', how='outer')\n",
    "\n",
    "FixturesElementsAllGroupedwithTS['IsInCurrentTeam'] = np.where(\n",
    "    FixturesElementsAllGroupedwithTS['is_captain'].notnull(),\n",
    "    'Y',\n",
    "    'N'\n",
    ")"
   ]
  },
  {
   "cell_type": "code",
   "execution_count": 17,
   "metadata": {},
   "outputs": [
    {
     "data": {
      "text/html": [
       "<div>\n",
       "<style scoped>\n",
       "    .dataframe tbody tr th:only-of-type {\n",
       "        vertical-align: middle;\n",
       "    }\n",
       "\n",
       "    .dataframe tbody tr th {\n",
       "        vertical-align: top;\n",
       "    }\n",
       "\n",
       "    .dataframe thead th {\n",
       "        text-align: right;\n",
       "    }\n",
       "</style>\n",
       "<table border=\"1\" class=\"dataframe\">\n",
       "  <thead>\n",
       "    <tr style=\"text-align: right;\">\n",
       "      <th></th>\n",
       "      <th>playerid</th>\n",
       "      <th>web_name</th>\n",
       "      <th>element_type_x</th>\n",
       "      <th>now_cost</th>\n",
       "      <th>team</th>\n",
       "      <th>expected_goals.gw</th>\n",
       "      <th>expected_assists.gw</th>\n",
       "      <th>expected_goal_involvements.gw</th>\n",
       "      <th>expected_goals_conceded.gw</th>\n",
       "      <th>XGI_Weighted</th>\n",
       "      <th>XGC_Weighted</th>\n",
       "      <th>AttackOpp_pergame</th>\n",
       "      <th>DefenceOpp_pergame</th>\n",
       "      <th>element</th>\n",
       "      <th>position</th>\n",
       "      <th>multiplier</th>\n",
       "      <th>is_captain</th>\n",
       "      <th>is_vice_captain</th>\n",
       "      <th>element_type_y</th>\n",
       "      <th>IsInCurrentTeam</th>\n",
       "    </tr>\n",
       "  </thead>\n",
       "  <tbody>\n",
       "    <tr>\n",
       "      <th>0</th>\n",
       "      <td>1.0</td>\n",
       "      <td>Fábio Vieira</td>\n",
       "      <td>3.0</td>\n",
       "      <td>54.0</td>\n",
       "      <td>1.0</td>\n",
       "      <td>0.000</td>\n",
       "      <td>0.000</td>\n",
       "      <td>0.000</td>\n",
       "      <td>0.000</td>\n",
       "      <td>0.610305</td>\n",
       "      <td>2.2884</td>\n",
       "      <td>0.000000</td>\n",
       "      <td>0.000000</td>\n",
       "      <td>NaN</td>\n",
       "      <td>NaN</td>\n",
       "      <td>NaN</td>\n",
       "      <td>NaN</td>\n",
       "      <td>NaN</td>\n",
       "      <td>NaN</td>\n",
       "      <td>N</td>\n",
       "    </tr>\n",
       "    <tr>\n",
       "      <th>1</th>\n",
       "      <td>2.0</td>\n",
       "      <td>G.Jesus</td>\n",
       "      <td>4.0</td>\n",
       "      <td>67.0</td>\n",
       "      <td>1.0</td>\n",
       "      <td>0.406</td>\n",
       "      <td>0.076</td>\n",
       "      <td>0.482</td>\n",
       "      <td>0.676</td>\n",
       "      <td>0.610305</td>\n",
       "      <td>2.2884</td>\n",
       "      <td>1.103009</td>\n",
       "      <td>0.412566</td>\n",
       "      <td>2.0</td>\n",
       "      <td>15.0</td>\n",
       "      <td>0.0</td>\n",
       "      <td>False</td>\n",
       "      <td>False</td>\n",
       "      <td>4.0</td>\n",
       "      <td>Y</td>\n",
       "    </tr>\n",
       "    <tr>\n",
       "      <th>2</th>\n",
       "      <td>3.0</td>\n",
       "      <td>Gabriel</td>\n",
       "      <td>2.0</td>\n",
       "      <td>64.0</td>\n",
       "      <td>1.0</td>\n",
       "      <td>0.138</td>\n",
       "      <td>0.078</td>\n",
       "      <td>0.216</td>\n",
       "      <td>0.868</td>\n",
       "      <td>0.610305</td>\n",
       "      <td>2.2884</td>\n",
       "      <td>0.494294</td>\n",
       "      <td>0.529745</td>\n",
       "      <td>NaN</td>\n",
       "      <td>NaN</td>\n",
       "      <td>NaN</td>\n",
       "      <td>NaN</td>\n",
       "      <td>NaN</td>\n",
       "      <td>NaN</td>\n",
       "      <td>N</td>\n",
       "    </tr>\n",
       "    <tr>\n",
       "      <th>3</th>\n",
       "      <td>4.0</td>\n",
       "      <td>Havertz</td>\n",
       "      <td>4.0</td>\n",
       "      <td>78.0</td>\n",
       "      <td>1.0</td>\n",
       "      <td>0.472</td>\n",
       "      <td>0.020</td>\n",
       "      <td>0.492</td>\n",
       "      <td>0.494</td>\n",
       "      <td>0.610305</td>\n",
       "      <td>2.2884</td>\n",
       "      <td>1.125893</td>\n",
       "      <td>0.301491</td>\n",
       "      <td>NaN</td>\n",
       "      <td>NaN</td>\n",
       "      <td>NaN</td>\n",
       "      <td>NaN</td>\n",
       "      <td>NaN</td>\n",
       "      <td>NaN</td>\n",
       "      <td>N</td>\n",
       "    </tr>\n",
       "    <tr>\n",
       "      <th>4</th>\n",
       "      <td>6.0</td>\n",
       "      <td>J.Timber</td>\n",
       "      <td>2.0</td>\n",
       "      <td>57.0</td>\n",
       "      <td>1.0</td>\n",
       "      <td>0.008</td>\n",
       "      <td>0.042</td>\n",
       "      <td>0.050</td>\n",
       "      <td>0.556</td>\n",
       "      <td>0.610305</td>\n",
       "      <td>2.2884</td>\n",
       "      <td>0.114420</td>\n",
       "      <td>0.339330</td>\n",
       "      <td>NaN</td>\n",
       "      <td>NaN</td>\n",
       "      <td>NaN</td>\n",
       "      <td>NaN</td>\n",
       "      <td>NaN</td>\n",
       "      <td>NaN</td>\n",
       "      <td>N</td>\n",
       "    </tr>\n",
       "  </tbody>\n",
       "</table>\n",
       "</div>"
      ],
      "text/plain": [
       "   playerid      web_name  element_type_x  now_cost  team  expected_goals.gw   \n",
       "0       1.0  Fábio Vieira             3.0      54.0   1.0              0.000  \\\n",
       "1       2.0       G.Jesus             4.0      67.0   1.0              0.406   \n",
       "2       3.0       Gabriel             2.0      64.0   1.0              0.138   \n",
       "3       4.0       Havertz             4.0      78.0   1.0              0.472   \n",
       "4       6.0      J.Timber             2.0      57.0   1.0              0.008   \n",
       "\n",
       "   expected_assists.gw  expected_goal_involvements.gw   \n",
       "0                0.000                          0.000  \\\n",
       "1                0.076                          0.482   \n",
       "2                0.078                          0.216   \n",
       "3                0.020                          0.492   \n",
       "4                0.042                          0.050   \n",
       "\n",
       "   expected_goals_conceded.gw  XGI_Weighted  XGC_Weighted  AttackOpp_pergame   \n",
       "0                       0.000      0.610305        2.2884           0.000000  \\\n",
       "1                       0.676      0.610305        2.2884           1.103009   \n",
       "2                       0.868      0.610305        2.2884           0.494294   \n",
       "3                       0.494      0.610305        2.2884           1.125893   \n",
       "4                       0.556      0.610305        2.2884           0.114420   \n",
       "\n",
       "   DefenceOpp_pergame  element  position  multiplier is_captain   \n",
       "0            0.000000      NaN       NaN         NaN        NaN  \\\n",
       "1            0.412566      2.0      15.0         0.0      False   \n",
       "2            0.529745      NaN       NaN         NaN        NaN   \n",
       "3            0.301491      NaN       NaN         NaN        NaN   \n",
       "4            0.339330      NaN       NaN         NaN        NaN   \n",
       "\n",
       "  is_vice_captain  element_type_y IsInCurrentTeam  \n",
       "0             NaN             NaN               N  \n",
       "1           False             4.0               Y  \n",
       "2             NaN             NaN               N  \n",
       "3             NaN             NaN               N  \n",
       "4             NaN             NaN               N  "
      ]
     },
     "execution_count": 17,
     "metadata": {},
     "output_type": "execute_result"
    }
   ],
   "source": [
    "FixturesElementsAllGroupedwithTS.head()"
   ]
  },
  {
   "cell_type": "code",
   "execution_count": 18,
   "metadata": {},
   "outputs": [],
   "source": [
    "FixturesElementsAllGroupedwithTS.to_csv('FixturesElementsAllGroupedwithTS.csv')"
   ]
  },
  {
   "cell_type": "code",
   "execution_count": null,
   "metadata": {},
   "outputs": [],
   "source": []
  },
  {
   "cell_type": "code",
   "execution_count": null,
   "metadata": {},
   "outputs": [],
   "source": [
    "# ##Import the packages to carry out the optimisation problem\n",
    "\n",
    "# import requests\n",
    "# from sklearn.preprocessing import MinMaxScaler\n",
    "# import warnings\n",
    "# from pulp import *\n",
    "# Small_Elements_df = FixturesElementsAllGroupedwithTS"
   ]
  },
  {
   "cell_type": "code",
   "execution_count": 20,
   "metadata": {},
   "outputs": [],
   "source": [
    "# def AttackOptimisationproblem(Source,AttSpend,FreeTransfers):\n",
    "#     Attack_Elements_df = Source.dropna(subset=['AttackOpp_pergame'])\n",
    "#     Attack_Elements_df['AttackOpp_pergame'].astype(float)\n",
    "#     Attack_Elements_df=Attack_Elements_df[Attack_Elements_df['element_type_x']!=1]\n",
    "#     Attack_Elements_df=Attack_Elements_df[Attack_Elements_df['element_type_x']!=2]\n",
    "#     ## Attack Variables\n",
    "#     Players = list(Attack_Elements_df['web_name'])\n",
    "#     Cost = dict(zip(Players, Attack_Elements_df['now_cost']))\n",
    "#     Score = dict(zip(Players, Attack_Elements_df['AttackOpp_pergame'].astype(float)))\n",
    "#     positions = dict(zip(Players, Attack_Elements_df['element_type_x']))\n",
    "#     CurrentSelection = dict(zip(Players, Attack_Elements_df['IsInCurrentTeam']))\n",
    "    \n",
    "#     player_vars = LpVariable.dicts(\"Player\", Players, lowBound=0, upBound=1, cat='Integer')\n",
    "\n",
    "#     ##Attack Constraints and problem solve\n",
    "\n",
    "#     total_score = LpProblem(\"Fantasy_Points_Problem\", LpMaximize)\n",
    "#     total_score += lpSum([Score[i] * player_vars[i] for i in player_vars])\n",
    "#     total_score += lpSum([Cost[i] * player_vars[i] for i in player_vars]) <= AttSpend\n",
    "\n",
    "#     MF = [p for p in positions.keys() if positions[p] == 3]\n",
    "#     ST = [p for p in positions.keys() if positions[p] == 4]\n",
    "#     CS = [p for p in positions.keys() if CurrentSelection[p] == 'N']\n",
    "#     total_score += lpSum([player_vars[i] for i in MF]) == 5\n",
    "#     total_score += lpSum([player_vars[i] for i in ST]) == 3\n",
    "#     total_score += lpSum([player_vars[i] for i in CS]) == 8-FreeTransfers\n",
    "\n",
    "#     total_score.solve()\n",
    "\n",
    "#     for v in total_score.variables():\n",
    "#         if v.varValue > 0:\n",
    "#             print(v.name)\n"
   ]
  },
  {
   "cell_type": "code",
   "execution_count": 21,
   "metadata": {},
   "outputs": [],
   "source": [
    "# def DefenceOptimisationproblem(Source,DefSpend,FreeTransfers):\n",
    "#     Def_Elements_df=Source.dropna(subset=['DefenceOpp_pergame'])\n",
    "#     Def_Elements_df['DefenceOpp_pergame'].astype(float)\n",
    "#     Def_Elements_df=Def_Elements_df[Def_Elements_df['element_type_x']!=3]\n",
    "#     Def_Elements_df=Def_Elements_df[Def_Elements_df['element_type_x']!=4]\n",
    "#     ## Defence Variables\n",
    "#     DefPlayers = list(Def_Elements_df['web_name'])\n",
    "#     DefCost = dict(zip(DefPlayers, Def_Elements_df['now_cost']))\n",
    "#     DefScore = dict(zip(DefPlayers, Def_Elements_df['DefenceOpp_pergame'].astype(float)))\n",
    "#     Defpositions = dict(zip(DefPlayers, Def_Elements_df['element_type_x']))\n",
    "#     DefCurrentSelection = dict(zip(DefPlayers, Def_Elements_df['IsInCurrentTeam']))\n",
    "\n",
    "#     player_vars_def = LpVariable.dicts(\"DefPlayers\", DefPlayers, lowBound=0, upBound=1, cat='Integer')\n",
    "\n",
    "# ##Defence Constraints and problem solve\n",
    "\n",
    "#     total_score_def = LpProblem(\"Fantasy_Points_Problem_Defence\", LpMinimize)\n",
    "#     total_score_def += lpSum([DefScore[i] * player_vars_def[i] for i in player_vars_def])\n",
    "#     total_score_def += lpSum([DefCost[i] * player_vars_def[i] for i in player_vars_def]) <= DefSpend\n",
    "\n",
    "#     GK = [p for p in Defpositions.keys() if Defpositions[p] == 1]\n",
    "#     DF = [p for p in Defpositions.keys() if Defpositions[p] == 2]\n",
    "#     #CS = [p for p in DefCurrentSelection.keys() if DefCurrentSelection[p] == 'N']\n",
    "#     total_score_def += lpSum([player_vars_def[i] for i in GK]) == 2\n",
    "#     total_score_def += lpSum([player_vars_def[i] for i in DF]) == 5\n",
    "#     #total_score_def += lpSum([player_vars_def[i] for i in CS]) == 7-FreeTransfers\n",
    "\n",
    "#     total_score_def.solve()\n",
    "\n",
    "#     for v in total_score_def.variables():\n",
    "#         if v.varValue > 0:\n",
    "#             print(v.name)"
   ]
  },
  {
   "cell_type": "code",
   "execution_count": null,
   "metadata": {},
   "outputs": [],
   "source": [
    "# AttackOptimisationproblem(Small_Elements_df,700,1)\n",
    "# DefenceOptimisationproblem(Small_Elements_df,300,1)"
   ]
  },
  {
   "cell_type": "code",
   "execution_count": null,
   "metadata": {},
   "outputs": [],
   "source": [
    "##### Returns Output 1 FixturesElementsAll\n",
    "FixturesElementsAll1 = pd.merge(FixturesConcat, Elements_Dim2Grouped2,left_on='OppTeam2', right_on='OppTeam', how='outer')\n",
    "\n",
    "FixturesElementsAll2 = pd.merge(grouped_dfLast4Weeks, FixturesElementsAll1,left_on='team', right_on='TeamID', how='outer')\n",
    "\n",
    "FixturesElementsAll2['AttackOpp_pergame'] = FixturesElementsAll2['XGC_Weighted']*FixturesElementsAll2['expected_goal_involvements.gw']\n",
    "\n",
    "FixturesElementsAll2['DefenceOpp_pergame'] = FixturesElementsAll2['XGI_Weighted']*FixturesElementsAll2['expected_goals_conceded.gw']\n",
    "\n",
    "FixturesElementsAll2Att=FixturesElementsAll2[FixturesElementsAll2['element_type']>2]\n",
    "\n",
    "# Calculate total AttackOpp_pergame for each player\n",
    "FixturesElementsAll2Att = FixturesElementsAll2Att[FixturesElementsAll2Att['event']<UpcomingWeek+4]\n",
    "FixturesElementsAll2Att.head(10)\n",
    "FixturesElementsAll2_totalsAtt = FixturesElementsAll2Att.groupby('web_name')['AttackOpp_pergame'].sum().reset_index()\n",
    "\n",
    "# Sort players by total AttackOpp_pergame and select top 20\n",
    "top_players = FixturesElementsAll2_totalsAtt.sort_values(by='AttackOpp_pergame', ascending=False).head(10)\n",
    "\n",
    "# Filter original DataFrame to include only top 20 players\n",
    "FixturesElementsAll2AttFiltered = FixturesElementsAll2[FixturesElementsAll2['web_name'].isin(top_players['web_name'])]\n",
    "\n",
    "FixturesElementsAll2AttFilteredslim = FixturesElementsAll2AttFiltered[['web_name','event','AttackOpp_pergame']]\n",
    "FixturesElementsAll2AttFilteredslim['AttackOpp_pergame'].astype(float)\n",
    "FixturesElementsAll2AttFilteredslim.sort_values(by='event', ascending=True)\n",
    "\n",
    "FixturesElementsAll2AttFilteredslim=FixturesElementsAll2AttFilteredslim.drop_duplicates(subset=['event','web_name'])\n",
    "\n",
    "figAttAtt = px.bar(data_frame=FixturesElementsAll2AttFilteredslim, x=\"event\", y=\"AttackOpp_pergame\", barmode='group', color='web_name')\n"
   ]
  },
  {
   "cell_type": "code",
   "execution_count": null,
   "metadata": {},
   "outputs": [],
   "source": []
  }
 ],
 "metadata": {
  "kernelspec": {
   "display_name": "Python 3",
   "language": "python",
   "name": "python3"
  },
  "language_info": {
   "codemirror_mode": {
    "name": "ipython",
    "version": 3
   },
   "file_extension": ".py",
   "mimetype": "text/x-python",
   "name": "python",
   "nbconvert_exporter": "python",
   "pygments_lexer": "ipython3",
   "version": "3.10.10"
  }
 },
 "nbformat": 4,
 "nbformat_minor": 2
}
